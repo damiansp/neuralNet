{
 "cells": [
  {
   "cell_type": "code",
   "execution_count": 1,
   "id": "aerial-flooring",
   "metadata": {},
   "outputs": [
    {
     "data": {
      "text/plain": [
       "'2.4.0'"
      ]
     },
     "execution_count": 1,
     "metadata": {},
     "output_type": "execute_result"
    }
   ],
   "source": [
    "import os\n",
    "\n",
    "import tensorflow as tf\n",
    "from tensorflow import keras\n",
    "from tensorflow.keras.models import Sequential\n",
    "from tensorflow.keras.layers import Dense, Dropout\n",
    "\n",
    "tf.version.VERSION"
   ]
  },
  {
   "cell_type": "code",
   "execution_count": 2,
   "id": "destroyed-breath",
   "metadata": {},
   "outputs": [],
   "source": [
    "(X_train, y_train), (X_test, y_test) = keras.datasets.mnist.load_data()\n",
    "\n",
    "y_train = y_train[:1000]\n",
    "y_test = y_test[:1000]\n",
    "X_train = X_train[:1000].reshape(-1, 28*28) / 255.\n",
    "X_test = X_test[:1000].reshape(-1, 28*28) / 255."
   ]
  },
  {
   "cell_type": "code",
   "execution_count": 3,
   "id": "silent-treatment",
   "metadata": {},
   "outputs": [],
   "source": [
    "def create_mod():\n",
    "    mod = Sequential([Dense(512, activation='relu', input_shape=(784,)),\n",
    "                      Dropout(0.2),\n",
    "                      Dense(10)])\n",
    "    mod.compile(\n",
    "        optimizer='adam',\n",
    "        loss=tf.losses.SparseCategoricalCrossentropy(from_logits=True),\n",
    "        metrics=[tf.metrics.SparseCategoricalAccuracy()])\n",
    "    return mod"
   ]
  },
  {
   "cell_type": "code",
   "execution_count": 4,
   "id": "arranged-vampire",
   "metadata": {},
   "outputs": [
    {
     "name": "stdout",
     "output_type": "stream",
     "text": [
      "Model: \"sequential\"\n",
      "_________________________________________________________________\n",
      "Layer (type)                 Output Shape              Param #   \n",
      "=================================================================\n",
      "dense (Dense)                (None, 512)               401920    \n",
      "_________________________________________________________________\n",
      "dropout (Dropout)            (None, 512)               0         \n",
      "_________________________________________________________________\n",
      "dense_1 (Dense)              (None, 10)                5130      \n",
      "=================================================================\n",
      "Total params: 407,050\n",
      "Trainable params: 407,050\n",
      "Non-trainable params: 0\n",
      "_________________________________________________________________\n"
     ]
    }
   ],
   "source": [
    "mod = create_mod()\n",
    "mod.summary()"
   ]
  },
  {
   "cell_type": "markdown",
   "id": "turkish-prefix",
   "metadata": {},
   "source": [
    "### Save checkpoints during training"
   ]
  },
  {
   "cell_type": "code",
   "execution_count": 5,
   "id": "oriented-muslim",
   "metadata": {},
   "outputs": [
    {
     "name": "stdout",
     "output_type": "stream",
     "text": [
      "Epoch 1/10\n",
      "32/32 [==============================] - 1s 20ms/step - loss: 1.5751 - sparse_categorical_accuracy: 0.5329 - val_loss: 0.6874 - val_sparse_categorical_accuracy: 0.8090\n",
      "\n",
      "Epoch 00001: saving model to training_1/cp.ckpt\n",
      "Epoch 2/10\n",
      "32/32 [==============================] - 0s 4ms/step - loss: 0.4494 - sparse_categorical_accuracy: 0.8743 - val_loss: 0.5382 - val_sparse_categorical_accuracy: 0.8440\n",
      "\n",
      "Epoch 00002: saving model to training_1/cp.ckpt\n",
      "Epoch 3/10\n",
      "32/32 [==============================] - 0s 4ms/step - loss: 0.2990 - sparse_categorical_accuracy: 0.9129 - val_loss: 0.4500 - val_sparse_categorical_accuracy: 0.8720\n",
      "\n",
      "Epoch 00003: saving model to training_1/cp.ckpt\n",
      "Epoch 4/10\n",
      "32/32 [==============================] - 0s 4ms/step - loss: 0.2146 - sparse_categorical_accuracy: 0.9504 - val_loss: 0.4450 - val_sparse_categorical_accuracy: 0.8620\n",
      "\n",
      "Epoch 00004: saving model to training_1/cp.ckpt\n",
      "Epoch 5/10\n",
      "32/32 [==============================] - 0s 4ms/step - loss: 0.1417 - sparse_categorical_accuracy: 0.9767 - val_loss: 0.4620 - val_sparse_categorical_accuracy: 0.8540\n",
      "\n",
      "Epoch 00005: saving model to training_1/cp.ckpt\n",
      "Epoch 6/10\n",
      "32/32 [==============================] - 0s 4ms/step - loss: 0.1149 - sparse_categorical_accuracy: 0.9721 - val_loss: 0.4368 - val_sparse_categorical_accuracy: 0.8620\n",
      "\n",
      "Epoch 00006: saving model to training_1/cp.ckpt\n",
      "Epoch 7/10\n",
      "32/32 [==============================] - 0s 4ms/step - loss: 0.0851 - sparse_categorical_accuracy: 0.9885 - val_loss: 0.4450 - val_sparse_categorical_accuracy: 0.8570\n",
      "\n",
      "Epoch 00007: saving model to training_1/cp.ckpt\n",
      "Epoch 8/10\n",
      "32/32 [==============================] - 0s 4ms/step - loss: 0.0686 - sparse_categorical_accuracy: 0.9930 - val_loss: 0.4060 - val_sparse_categorical_accuracy: 0.8710\n",
      "\n",
      "Epoch 00008: saving model to training_1/cp.ckpt\n",
      "Epoch 9/10\n",
      "32/32 [==============================] - 0s 4ms/step - loss: 0.0553 - sparse_categorical_accuracy: 0.9934 - val_loss: 0.4229 - val_sparse_categorical_accuracy: 0.8690\n",
      "\n",
      "Epoch 00009: saving model to training_1/cp.ckpt\n",
      "Epoch 10/10\n",
      "32/32 [==============================] - 0s 4ms/step - loss: 0.0408 - sparse_categorical_accuracy: 0.9992 - val_loss: 0.4215 - val_sparse_categorical_accuracy: 0.8670\n",
      "\n",
      "Epoch 00010: saving model to training_1/cp.ckpt\n"
     ]
    },
    {
     "data": {
      "text/plain": [
       "<tensorflow.python.keras.callbacks.History at 0x7fc65a1ba130>"
      ]
     },
     "execution_count": 5,
     "metadata": {},
     "output_type": "execute_result"
    }
   ],
   "source": [
    "checkpoint_path = 'training_1/cp.ckpt'\n",
    "checkpoint_dir = os.path.dirname(checkpoint_path)\n",
    "\n",
    "cp_callback = keras.callbacks.ModelCheckpoint(\n",
    "    filepath=checkpoint_path, save_weights_only=True, verbose=1)\n",
    "mod.fit(X_train,\n",
    "        y_train,\n",
    "        epochs=10,\n",
    "        validation_data=(X_test, y_test),\n",
    "        callbacks=[cp_callback])"
   ]
  },
  {
   "cell_type": "code",
   "execution_count": 6,
   "id": "approved-baker",
   "metadata": {},
   "outputs": [
    {
     "data": {
      "text/plain": [
       "['cp.ckpt.data-00000-of-00001', 'checkpoint', 'cp.ckpt.index']"
      ]
     },
     "execution_count": 6,
     "metadata": {},
     "output_type": "execute_result"
    }
   ],
   "source": [
    "os.listdir(checkpoint_dir)"
   ]
  },
  {
   "cell_type": "code",
   "execution_count": 7,
   "id": "olympic-suspension",
   "metadata": {},
   "outputs": [
    {
     "name": "stdout",
     "output_type": "stream",
     "text": [
      "32/32 - 0s - loss: 2.3906 - sparse_categorical_accuracy: 0.1330\n",
      "Untrained: Acc: 13.30\n"
     ]
    }
   ],
   "source": [
    "mod = create_mod()\n",
    "loss, acc = mod.evaluate(X_test, y_test, verbose=2)\n",
    "print(f'Untrained: Acc: {100 * acc:5.2f}')"
   ]
  },
  {
   "cell_type": "code",
   "execution_count": 8,
   "id": "northern-alfred",
   "metadata": {},
   "outputs": [
    {
     "name": "stdout",
     "output_type": "stream",
     "text": [
      "32/32 - 0s - loss: 0.4215 - sparse_categorical_accuracy: 0.8670\n",
      "Loaded weights: Acc: 86.70\n"
     ]
    }
   ],
   "source": [
    "mod.load_weights(checkpoint_path)\n",
    "loss, acc = mod.evaluate(X_test, y_test, verbose=2)\n",
    "print(f'Loaded weights: Acc: {100 * acc:5.2f}')"
   ]
  },
  {
   "cell_type": "markdown",
   "id": "otherwise-accommodation",
   "metadata": {},
   "source": [
    "### Checkpoint Callback Options"
   ]
  },
  {
   "cell_type": "code",
   "execution_count": 9,
   "id": "homeless-albania",
   "metadata": {},
   "outputs": [],
   "source": [
    "checkpoint_path = 'training_2/cp-{epoch:04d}.ckpt'\n",
    "checkpoint_dir = os.path.dirname(checkpoint_path)\n",
    "\n",
    "BATCH = 32"
   ]
  },
  {
   "cell_type": "code",
   "execution_count": 10,
   "id": "developmental-small",
   "metadata": {},
   "outputs": [
    {
     "name": "stdout",
     "output_type": "stream",
     "text": [
      "\n",
      "Epoch 00005: saving model to training_2/cp-0005.ckpt\n",
      "\n",
      "Epoch 00010: saving model to training_2/cp-0010.ckpt\n",
      "\n",
      "Epoch 00015: saving model to training_2/cp-0015.ckpt\n",
      "\n",
      "Epoch 00020: saving model to training_2/cp-0020.ckpt\n",
      "\n",
      "Epoch 00025: saving model to training_2/cp-0025.ckpt\n",
      "\n",
      "Epoch 00030: saving model to training_2/cp-0030.ckpt\n",
      "\n",
      "Epoch 00035: saving model to training_2/cp-0035.ckpt\n",
      "\n",
      "Epoch 00040: saving model to training_2/cp-0040.ckpt\n",
      "\n",
      "Epoch 00045: saving model to training_2/cp-0045.ckpt\n",
      "\n",
      "Epoch 00050: saving model to training_2/cp-0050.ckpt\n"
     ]
    },
    {
     "data": {
      "text/plain": [
       "<tensorflow.python.keras.callbacks.History at 0x7fc65600c400>"
      ]
     },
     "execution_count": 10,
     "metadata": {},
     "output_type": "execute_result"
    }
   ],
   "source": [
    "cp_callback = keras.callbacks.ModelCheckpoint(\n",
    "    filepath=checkpoint_path,\n",
    "    verbose=1,\n",
    "    save_weights_only=True,\n",
    "    save_freq=5 * BATCH)\n",
    "\n",
    "mod = create_mod()\n",
    "mod.save_weights(checkpoint_path.format(epoch=0))\n",
    "mod.fit(X_train,\n",
    "        y_train,\n",
    "        epochs=50,\n",
    "        batch_size=BATCH,\n",
    "        callbacks=[cp_callback],\n",
    "        validation_data=(X_test, y_test),\n",
    "        verbose=0)"
   ]
  },
  {
   "cell_type": "code",
   "execution_count": 11,
   "id": "rental-tuition",
   "metadata": {},
   "outputs": [
    {
     "data": {
      "text/plain": [
       "['cp-0005.ckpt.data-00000-of-00001',\n",
       " 'cp-0050.ckpt.index',\n",
       " 'cp-0005.ckpt.index',\n",
       " 'cp-0050.ckpt.data-00000-of-00001',\n",
       " 'checkpoint',\n",
       " 'cp-0020.ckpt.data-00000-of-00001',\n",
       " 'cp-0000.ckpt.index',\n",
       " 'cp-0030.ckpt.index',\n",
       " 'cp-0025.ckpt.data-00000-of-00001',\n",
       " 'cp-0000.ckpt.data-00000-of-00001',\n",
       " 'cp-0035.ckpt.index',\n",
       " 'cp-0010.ckpt.index',\n",
       " 'cp-0045.ckpt.index',\n",
       " 'cp-0045.ckpt.data-00000-of-00001',\n",
       " 'cp-0010.ckpt.data-00000-of-00001',\n",
       " 'cp-0035.ckpt.data-00000-of-00001',\n",
       " 'cp-0015.ckpt.index',\n",
       " 'cp-0040.ckpt.index',\n",
       " 'cp-0025.ckpt.index',\n",
       " 'cp-0030.ckpt.data-00000-of-00001',\n",
       " 'cp-0040.ckpt.data-00000-of-00001',\n",
       " 'cp-0015.ckpt.data-00000-of-00001',\n",
       " 'cp-0020.ckpt.index']"
      ]
     },
     "execution_count": 11,
     "metadata": {},
     "output_type": "execute_result"
    }
   ],
   "source": [
    "os.listdir(checkpoint_dir)"
   ]
  },
  {
   "cell_type": "code",
   "execution_count": 12,
   "id": "lesbian-italian",
   "metadata": {},
   "outputs": [
    {
     "data": {
      "text/plain": [
       "'training_2/cp-0050.ckpt'"
      ]
     },
     "execution_count": 12,
     "metadata": {},
     "output_type": "execute_result"
    }
   ],
   "source": [
    "latest = tf.train.latest_checkpoint(checkpoint_dir)\n",
    "latest"
   ]
  },
  {
   "cell_type": "code",
   "execution_count": 13,
   "id": "virgin-integral",
   "metadata": {},
   "outputs": [
    {
     "name": "stdout",
     "output_type": "stream",
     "text": [
      "32/32 - 0s - loss: 0.4880 - sparse_categorical_accuracy: 0.8790\n",
      "Restored mod: Acc: 87.90%\n"
     ]
    }
   ],
   "source": [
    "mod = create_mod()\n",
    "mod.load_weights(latest)\n",
    "loss, acc = mod.evaluate(X_test, y_test, verbose=2)\n",
    "print(f'Restored mod: Acc: {100 * acc:5.2f}%')"
   ]
  },
  {
   "cell_type": "markdown",
   "id": "jewish-nation",
   "metadata": {},
   "source": [
    "### Manually save weights"
   ]
  },
  {
   "cell_type": "code",
   "execution_count": 14,
   "id": "robust-journalism",
   "metadata": {},
   "outputs": [
    {
     "name": "stdout",
     "output_type": "stream",
     "text": [
      "32/32 - 0s - loss: 0.4880 - sparse_categorical_accuracy: 0.8790\n",
      "Restored mod: Acc: 87.90%\n"
     ]
    }
   ],
   "source": [
    "mod.save_weights('./checkpoints/my_checkpoint')\n",
    "mod = create_mod()\n",
    "mod.load_weights('./checkpoints/my_checkpoint')\n",
    "loss, acc = mod.evaluate(X_test, y_test, verbose=2)\n",
    "print(f'Restored mod: Acc: {100 * acc:5.2f}%')"
   ]
  },
  {
   "cell_type": "markdown",
   "id": "fleet-arrest",
   "metadata": {},
   "source": [
    "### Saved model format"
   ]
  },
  {
   "cell_type": "code",
   "execution_count": 15,
   "id": "empirical-analyst",
   "metadata": {},
   "outputs": [
    {
     "name": "stdout",
     "output_type": "stream",
     "text": [
      "Epoch 1/5\n",
      "32/32 [==============================] - 0s 2ms/step - loss: 1.5708 - sparse_categorical_accuracy: 0.5227\n",
      "Epoch 2/5\n",
      "32/32 [==============================] - 0s 2ms/step - loss: 0.4561 - sparse_categorical_accuracy: 0.8714\n",
      "Epoch 3/5\n",
      "32/32 [==============================] - 0s 2ms/step - loss: 0.3056 - sparse_categorical_accuracy: 0.9159\n",
      "Epoch 4/5\n",
      "32/32 [==============================] - 0s 2ms/step - loss: 0.1900 - sparse_categorical_accuracy: 0.9658\n",
      "Epoch 5/5\n",
      "32/32 [==============================] - 0s 2ms/step - loss: 0.1395 - sparse_categorical_accuracy: 0.9782\n"
     ]
    },
    {
     "data": {
      "text/plain": [
       "<tensorflow.python.keras.callbacks.History at 0x7fc656779730>"
      ]
     },
     "execution_count": 15,
     "metadata": {},
     "output_type": "execute_result"
    }
   ],
   "source": [
    "mod = create_mod()\n",
    "mod.fit(X_train, y_train, epochs=5)"
   ]
  },
  {
   "cell_type": "code",
   "execution_count": 16,
   "id": "dress-refund",
   "metadata": {},
   "outputs": [],
   "source": [
    "!mkdir -p saved_model"
   ]
  },
  {
   "cell_type": "code",
   "execution_count": 17,
   "id": "illegal-aspect",
   "metadata": {},
   "outputs": [
    {
     "name": "stdout",
     "output_type": "stream",
     "text": [
      "INFO:tensorflow:Assets written to: saved_model/my_mod/assets\n"
     ]
    }
   ],
   "source": [
    "mod.save('saved_model/my_mod')"
   ]
  },
  {
   "cell_type": "code",
   "execution_count": 19,
   "id": "prescription-documentation",
   "metadata": {},
   "outputs": [
    {
     "name": "stdout",
     "output_type": "stream",
     "text": [
      "\u001b[34massets\u001b[m\u001b[m         saved_model.pb \u001b[34mvariables\u001b[m\u001b[m\r\n"
     ]
    }
   ],
   "source": [
    "!ls saved_model/my_mod"
   ]
  },
  {
   "cell_type": "code",
   "execution_count": 20,
   "id": "therapeutic-bride",
   "metadata": {},
   "outputs": [
    {
     "name": "stdout",
     "output_type": "stream",
     "text": [
      "Model: \"sequential_5\"\n",
      "_________________________________________________________________\n",
      "Layer (type)                 Output Shape              Param #   \n",
      "=================================================================\n",
      "dense_10 (Dense)             (None, 512)               401920    \n",
      "_________________________________________________________________\n",
      "dropout_5 (Dropout)          (None, 512)               0         \n",
      "_________________________________________________________________\n",
      "dense_11 (Dense)             (None, 10)                5130      \n",
      "=================================================================\n",
      "Total params: 407,050\n",
      "Trainable params: 407,050\n",
      "Non-trainable params: 0\n",
      "_________________________________________________________________\n"
     ]
    }
   ],
   "source": [
    "new_mod = keras.models.load_model('saved_model/my_mod')\n",
    "new_mod.summary()"
   ]
  },
  {
   "cell_type": "code",
   "execution_count": 22,
   "id": "necessary-penetration",
   "metadata": {},
   "outputs": [
    {
     "name": "stdout",
     "output_type": "stream",
     "text": [
      "32/32 - 0s - loss: 0.4391 - sparse_categorical_accuracy: 0.8650\n",
      "Acc:  0.87\n",
      "(1000, 10)\n"
     ]
    }
   ],
   "source": [
    "loss, acc = new_mod.evaluate(X_test, y_test, verbose=2)\n",
    "print(f'Acc: {acc:5.2f}')\n",
    "print(new_mod.predict(X_test).shape)"
   ]
  },
  {
   "cell_type": "markdown",
   "id": "wired-dream",
   "metadata": {},
   "source": [
    "### HDF5 Format"
   ]
  },
  {
   "cell_type": "code",
   "execution_count": 23,
   "id": "important-richards",
   "metadata": {},
   "outputs": [
    {
     "name": "stdout",
     "output_type": "stream",
     "text": [
      "Epoch 1/5\n",
      "32/32 [==============================] - 0s 3ms/step - loss: 1.5744 - sparse_categorical_accuracy: 0.5242\n",
      "Epoch 2/5\n",
      "32/32 [==============================] - 0s 2ms/step - loss: 0.4877 - sparse_categorical_accuracy: 0.8513\n",
      "Epoch 3/5\n",
      "32/32 [==============================] - 0s 3ms/step - loss: 0.3000 - sparse_categorical_accuracy: 0.9260\n",
      "Epoch 4/5\n",
      "32/32 [==============================] - 0s 3ms/step - loss: 0.2426 - sparse_categorical_accuracy: 0.9358\n",
      "Epoch 5/5\n",
      "32/32 [==============================] - 0s 2ms/step - loss: 0.1526 - sparse_categorical_accuracy: 0.9685\n"
     ]
    }
   ],
   "source": [
    "mod = create_mod()\n",
    "mod.fit(X_train, y_train, epochs=5)\n",
    "mod.save('my_mod.h5')"
   ]
  },
  {
   "cell_type": "code",
   "execution_count": 24,
   "id": "interested-shooting",
   "metadata": {},
   "outputs": [
    {
     "name": "stdout",
     "output_type": "stream",
     "text": [
      "Model: \"sequential_6\"\n",
      "_________________________________________________________________\n",
      "Layer (type)                 Output Shape              Param #   \n",
      "=================================================================\n",
      "dense_12 (Dense)             (None, 512)               401920    \n",
      "_________________________________________________________________\n",
      "dropout_6 (Dropout)          (None, 512)               0         \n",
      "_________________________________________________________________\n",
      "dense_13 (Dense)             (None, 10)                5130      \n",
      "=================================================================\n",
      "Total params: 407,050\n",
      "Trainable params: 407,050\n",
      "Non-trainable params: 0\n",
      "_________________________________________________________________\n"
     ]
    }
   ],
   "source": [
    "new_mod = keras.models.load_model('my_mod.h5')\n",
    "new_mod.summary()"
   ]
  },
  {
   "cell_type": "code",
   "execution_count": 25,
   "id": "indirect-certificate",
   "metadata": {},
   "outputs": [
    {
     "name": "stdout",
     "output_type": "stream",
     "text": [
      "32/32 - 0s - loss: 0.4203 - sparse_categorical_accuracy: 0.8660\n",
      "Acc:  0.87\n"
     ]
    }
   ],
   "source": [
    "loss, acc = new_mod.evaluate(X_test, y_test, verbose=2)\n",
    "print(f'Acc: {acc:5.2f}')"
   ]
  },
  {
   "cell_type": "markdown",
   "id": "identified-thinking",
   "metadata": {},
   "source": [
    "Derived from <a href=\"https://www.tensorflow.org/tutorials/keras/save_and_load\">TensorFlow Tutorials</a>\n",
    "\n",
    "```\n",
    "# MIT License\n",
    "#\n",
    "# Copyright (c) 2017 François Chollet\n",
    "#\n",
    "# Permission is hereby granted, free of charge, to any person obtaining a\n",
    "# copy of this software and associated documentation files (the \"Software\"),\n",
    "# to deal in the Software without restriction, including without limitation\n",
    "# the rights to use, copy, modify, merge, publish, distribute, sublicense,\n",
    "# and/or sell copies of the Software, and to permit persons to whom the\n",
    "# Software is furnished to do so, subject to the following conditions:\n",
    "#\n",
    "# The above copyright notice and this permission notice shall be included in\n",
    "# all copies or substantial portions of the Software.\n",
    "#\n",
    "# THE SOFTWARE IS PROVIDED \"AS IS\", WITHOUT WARRANTY OF ANY KIND, EXPRESS OR\n",
    "# IMPLIED, INCLUDING BUT NOT LIMITED TO THE WARRANTIES OF MERCHANTABILITY,\n",
    "# FITNESS FOR A PARTICULAR PURPOSE AND NONINFRINGEMENT. IN NO EVENT SHALL\n",
    "# THE AUTHORS OR COPYRIGHT HOLDERS BE LIABLE FOR ANY CLAIM, DAMAGES OR OTHER\n",
    "# LIABILITY, WHETHER IN AN ACTION OF CONTRACT, TORT OR OTHERWISE, ARISING\n",
    "# FROM, OUT OF OR IN CONNECTION WITH THE SOFTWARE OR THE USE OR OTHER\n",
    "# DEALINGS IN THE SOFTWARE.\n",
    "```"
   ]
  },
  {
   "cell_type": "code",
   "execution_count": null,
   "id": "dependent-hello",
   "metadata": {},
   "outputs": [],
   "source": []
  }
 ],
 "metadata": {
  "kernelspec": {
   "display_name": "Python 3",
   "language": "python",
   "name": "python3"
  },
  "language_info": {
   "codemirror_mode": {
    "name": "ipython",
    "version": 3
   },
   "file_extension": ".py",
   "mimetype": "text/x-python",
   "name": "python",
   "nbconvert_exporter": "python",
   "pygments_lexer": "ipython3",
   "version": "3.8.8"
  }
 },
 "nbformat": 4,
 "nbformat_minor": 5
}
