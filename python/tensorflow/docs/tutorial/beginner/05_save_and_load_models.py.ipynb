{
 "cells": [
  {
   "cell_type": "code",
   "execution_count": 1,
   "id": "aerial-flooring",
   "metadata": {},
   "outputs": [
    {
     "data": {
      "text/plain": [
       "'2.4.0'"
      ]
     },
     "execution_count": 1,
     "metadata": {},
     "output_type": "execute_result"
    }
   ],
   "source": [
    "import os\n",
    "\n",
    "import tensorflow as tf\n",
    "from tensorflow import keras\n",
    "from tensorflow.keras.models import Sequential\n",
    "from tensorflow.keras.layers import Dense, Dropout\n",
    "\n",
    "tf.version.VERSION"
   ]
  },
  {
   "cell_type": "code",
   "execution_count": 2,
   "id": "destroyed-breath",
   "metadata": {},
   "outputs": [],
   "source": [
    "(X_train, y_train), (X_test, y_test) = keras.datasets.mnist.load_data()\n",
    "\n",
    "y_train = y_train[:1000]\n",
    "y_test = y_test[:1000]\n",
    "X_train = X_train[:1000].reshape(-1, 28*28) / 255.\n",
    "X_test = X_test[:1000].reshape(-1, 28*28) / 255."
   ]
  },
  {
   "cell_type": "code",
   "execution_count": 3,
   "id": "silent-treatment",
   "metadata": {},
   "outputs": [],
   "source": [
    "def create_mod():\n",
    "    mod = Sequential([Dense(512, activation='relu', input_shape=(784,)),\n",
    "                      Dropout(0.2),\n",
    "                      Dense(10)])\n",
    "    mod.compile(\n",
    "        optimizer='adam',\n",
    "        loss=tf.losses.SparseCategoricalCrossentropy(from_logits=True),\n",
    "        metrics=[tf.metrics.SparseCategoricalAccuracy()])\n",
    "    return mod"
   ]
  },
  {
   "cell_type": "code",
   "execution_count": 4,
   "id": "arranged-vampire",
   "metadata": {},
   "outputs": [
    {
     "name": "stdout",
     "output_type": "stream",
     "text": [
      "Model: \"sequential\"\n",
      "_________________________________________________________________\n",
      "Layer (type)                 Output Shape              Param #   \n",
      "=================================================================\n",
      "dense (Dense)                (None, 512)               401920    \n",
      "_________________________________________________________________\n",
      "dropout (Dropout)            (None, 512)               0         \n",
      "_________________________________________________________________\n",
      "dense_1 (Dense)              (None, 10)                5130      \n",
      "=================================================================\n",
      "Total params: 407,050\n",
      "Trainable params: 407,050\n",
      "Non-trainable params: 0\n",
      "_________________________________________________________________\n"
     ]
    }
   ],
   "source": [
    "mod = create_mod()\n",
    "mod.summary()"
   ]
  },
  {
   "cell_type": "markdown",
   "id": "turkish-prefix",
   "metadata": {},
   "source": [
    "### Save checkpoints during training"
   ]
  },
  {
   "cell_type": "code",
   "execution_count": 5,
   "id": "oriented-muslim",
   "metadata": {},
   "outputs": [
    {
     "name": "stdout",
     "output_type": "stream",
     "text": [
      "Epoch 1/10\n",
      "32/32 [==============================] - 1s 20ms/step - loss: 1.6129 - sparse_categorical_accuracy: 0.4945 - val_loss: 0.6859 - val_sparse_categorical_accuracy: 0.8000\n",
      "\n",
      "Epoch 00001: saving model to training_1/cp.ckpt\n",
      "Epoch 2/10\n",
      "32/32 [==============================] - 0s 4ms/step - loss: 0.4047 - sparse_categorical_accuracy: 0.8987 - val_loss: 0.5337 - val_sparse_categorical_accuracy: 0.8330\n",
      "\n",
      "Epoch 00002: saving model to training_1/cp.ckpt\n",
      "Epoch 3/10\n",
      "32/32 [==============================] - 0s 4ms/step - loss: 0.2960 - sparse_categorical_accuracy: 0.9308 - val_loss: 0.4880 - val_sparse_categorical_accuracy: 0.8410\n",
      "\n",
      "Epoch 00003: saving model to training_1/cp.ckpt\n",
      "Epoch 4/10\n",
      "32/32 [==============================] - 0s 4ms/step - loss: 0.1911 - sparse_categorical_accuracy: 0.9444 - val_loss: 0.4758 - val_sparse_categorical_accuracy: 0.8510\n",
      "\n",
      "Epoch 00004: saving model to training_1/cp.ckpt\n",
      "Epoch 5/10\n",
      "32/32 [==============================] - 0s 4ms/step - loss: 0.1563 - sparse_categorical_accuracy: 0.9694 - val_loss: 0.4371 - val_sparse_categorical_accuracy: 0.8590\n",
      "\n",
      "Epoch 00005: saving model to training_1/cp.ckpt\n",
      "Epoch 6/10\n",
      "32/32 [==============================] - 0s 4ms/step - loss: 0.1224 - sparse_categorical_accuracy: 0.9784 - val_loss: 0.4243 - val_sparse_categorical_accuracy: 0.8620\n",
      "\n",
      "Epoch 00006: saving model to training_1/cp.ckpt\n",
      "Epoch 7/10\n",
      "32/32 [==============================] - 0s 4ms/step - loss: 0.0814 - sparse_categorical_accuracy: 0.9896 - val_loss: 0.4099 - val_sparse_categorical_accuracy: 0.8660\n",
      "\n",
      "Epoch 00007: saving model to training_1/cp.ckpt\n",
      "Epoch 8/10\n",
      "32/32 [==============================] - 0s 4ms/step - loss: 0.0692 - sparse_categorical_accuracy: 0.9894 - val_loss: 0.4192 - val_sparse_categorical_accuracy: 0.8660\n",
      "\n",
      "Epoch 00008: saving model to training_1/cp.ckpt\n",
      "Epoch 9/10\n",
      "32/32 [==============================] - 0s 4ms/step - loss: 0.0479 - sparse_categorical_accuracy: 0.9992 - val_loss: 0.4153 - val_sparse_categorical_accuracy: 0.8630\n",
      "\n",
      "Epoch 00009: saving model to training_1/cp.ckpt\n",
      "Epoch 10/10\n",
      "32/32 [==============================] - 0s 4ms/step - loss: 0.0379 - sparse_categorical_accuracy: 1.0000 - val_loss: 0.4343 - val_sparse_categorical_accuracy: 0.8630\n",
      "\n",
      "Epoch 00010: saving model to training_1/cp.ckpt\n"
     ]
    },
    {
     "data": {
      "text/plain": [
       "<tensorflow.python.keras.callbacks.History at 0x7fb8f6db41c0>"
      ]
     },
     "execution_count": 5,
     "metadata": {},
     "output_type": "execute_result"
    }
   ],
   "source": [
    "checkpoint_path = 'training_1/cp.ckpt'\n",
    "checkpoint_dir = os.path.dirname(checkpoint_path)\n",
    "\n",
    "cp_callback = keras.callbacks.ModelCheckpoint(\n",
    "    filepath=checkpoint_path, save_weights_only=True, verbose=1)\n",
    "mod.fit(X_train,\n",
    "        y_train,\n",
    "        epochs=10,\n",
    "        validation_data=(X_test, y_test),\n",
    "        callbacks=[cp_callback])"
   ]
  },
  {
   "cell_type": "code",
   "execution_count": 6,
   "id": "approved-baker",
   "metadata": {},
   "outputs": [
    {
     "data": {
      "text/plain": [
       "['cp.ckpt.data-00000-of-00001', 'checkpoint', 'cp.ckpt.index']"
      ]
     },
     "execution_count": 6,
     "metadata": {},
     "output_type": "execute_result"
    }
   ],
   "source": [
    "os.listdir(checkpoint_dir)"
   ]
  },
  {
   "cell_type": "code",
   "execution_count": 7,
   "id": "olympic-suspension",
   "metadata": {},
   "outputs": [
    {
     "name": "stdout",
     "output_type": "stream",
     "text": [
      "32/32 - 0s - loss: 2.3816 - sparse_categorical_accuracy: 0.0990\n",
      "Untrained: Acc:  9.90\n"
     ]
    }
   ],
   "source": [
    "mod = create_mod()\n",
    "loss, acc = mod.evaluate(X_test, y_test, verbose=2)\n",
    "print(f'Untrained: Acc: {100 * acc:5.2f}')"
   ]
  },
  {
   "cell_type": "code",
   "execution_count": 8,
   "id": "northern-alfred",
   "metadata": {},
   "outputs": [
    {
     "name": "stdout",
     "output_type": "stream",
     "text": [
      "32/32 - 0s - loss: 0.4343 - sparse_categorical_accuracy: 0.8630\n",
      "Loaded weights: Acc: 86.30\n"
     ]
    }
   ],
   "source": [
    "mod.load_weights(checkpoint_path)\n",
    "loss, acc = mod.evaluate(X_test, y_test, verbose=2)\n",
    "print(f'Loaded weights: Acc: {100 * acc:5.2f}')"
   ]
  },
  {
   "cell_type": "markdown",
   "id": "otherwise-accommodation",
   "metadata": {},
   "source": [
    "### Checkpoint Callback Options"
   ]
  },
  {
   "cell_type": "code",
   "execution_count": 9,
   "id": "homeless-albania",
   "metadata": {},
   "outputs": [],
   "source": [
    "checkpoint_path = 'training_2/cp-{epoch:04d}.ckpt'\n",
    "checkpoint_dir = os.path.dirname(checkpoint_path)\n",
    "\n",
    "BATCH = 32"
   ]
  },
  {
   "cell_type": "code",
   "execution_count": 10,
   "id": "developmental-small",
   "metadata": {},
   "outputs": [
    {
     "name": "stdout",
     "output_type": "stream",
     "text": [
      "\n",
      "Epoch 00005: saving model to training_2/cp-0005.ckpt\n",
      "\n",
      "Epoch 00010: saving model to training_2/cp-0010.ckpt\n",
      "\n",
      "Epoch 00015: saving model to training_2/cp-0015.ckpt\n",
      "\n",
      "Epoch 00020: saving model to training_2/cp-0020.ckpt\n",
      "\n",
      "Epoch 00025: saving model to training_2/cp-0025.ckpt\n",
      "\n",
      "Epoch 00030: saving model to training_2/cp-0030.ckpt\n",
      "\n",
      "Epoch 00035: saving model to training_2/cp-0035.ckpt\n",
      "\n",
      "Epoch 00040: saving model to training_2/cp-0040.ckpt\n",
      "\n",
      "Epoch 00045: saving model to training_2/cp-0045.ckpt\n",
      "\n",
      "Epoch 00050: saving model to training_2/cp-0050.ckpt\n"
     ]
    },
    {
     "data": {
      "text/plain": [
       "<tensorflow.python.keras.callbacks.History at 0x7fb8f7c3d460>"
      ]
     },
     "execution_count": 10,
     "metadata": {},
     "output_type": "execute_result"
    }
   ],
   "source": [
    "cp_callback = keras.callbacks.ModelCheckpoint(\n",
    "    filepath=checkpoint_path,\n",
    "    verbose=1,\n",
    "    save_weights_only=True,\n",
    "    save_freq=5 * BATCH)\n",
    "\n",
    "mod = create_mod()\n",
    "mod.save_weights(checkpoint_path.format(epoch=0))\n",
    "mod.fit(X_train,\n",
    "        y_train,\n",
    "        epochs=50,\n",
    "        batch_size=BATCH,\n",
    "        callbacks=[cp_callback],\n",
    "        validation_data=(X_test, y_test),\n",
    "        verbose=0)"
   ]
  },
  {
   "cell_type": "code",
   "execution_count": 11,
   "id": "rental-tuition",
   "metadata": {},
   "outputs": [
    {
     "data": {
      "text/plain": [
       "['cp-0005.ckpt.data-00000-of-00001',\n",
       " 'cp-0050.ckpt.index',\n",
       " 'cp-0005.ckpt.index',\n",
       " 'cp-0050.ckpt.data-00000-of-00001',\n",
       " 'checkpoint',\n",
       " 'cp-0020.ckpt.data-00000-of-00001',\n",
       " 'cp-0000.ckpt.index',\n",
       " 'cp-0030.ckpt.index',\n",
       " 'cp-0025.ckpt.data-00000-of-00001',\n",
       " 'cp-0000.ckpt.data-00000-of-00001',\n",
       " 'cp-0035.ckpt.index',\n",
       " 'cp-0010.ckpt.index',\n",
       " 'cp-0045.ckpt.index',\n",
       " 'cp-0045.ckpt.data-00000-of-00001',\n",
       " 'cp-0010.ckpt.data-00000-of-00001',\n",
       " 'cp-0035.ckpt.data-00000-of-00001',\n",
       " 'cp-0015.ckpt.index',\n",
       " 'cp-0040.ckpt.index',\n",
       " 'cp-0025.ckpt.index',\n",
       " 'cp-0030.ckpt.data-00000-of-00001',\n",
       " 'cp-0040.ckpt.data-00000-of-00001',\n",
       " 'cp-0015.ckpt.data-00000-of-00001',\n",
       " 'cp-0020.ckpt.index']"
      ]
     },
     "execution_count": 11,
     "metadata": {},
     "output_type": "execute_result"
    }
   ],
   "source": [
    "os.listdir(checkpoint_dir)"
   ]
  },
  {
   "cell_type": "code",
   "execution_count": 12,
   "id": "lesbian-italian",
   "metadata": {},
   "outputs": [
    {
     "data": {
      "text/plain": [
       "'training_2/cp-0050.ckpt'"
      ]
     },
     "execution_count": 12,
     "metadata": {},
     "output_type": "execute_result"
    }
   ],
   "source": [
    "latest = tf.train.latest_checkpoint(checkpoint_dir)\n",
    "latest"
   ]
  },
  {
   "cell_type": "code",
   "execution_count": 16,
   "id": "virgin-integral",
   "metadata": {},
   "outputs": [
    {
     "name": "stdout",
     "output_type": "stream",
     "text": [
      "32/32 - 0s - loss: 0.4772 - sparse_categorical_accuracy: 0.8820\n",
      "Restored mod: Acc: 88.20%\n"
     ]
    }
   ],
   "source": [
    "mod = create_mod()\n",
    "mod.load_weights(latest)\n",
    "loss, acc = mod.evaluate(X_test, y_test, verbose=2)\n",
    "print(f'Restored mod: Acc: {100 * acc:5.2f}%')"
   ]
  },
  {
   "cell_type": "markdown",
   "id": "jewish-nation",
   "metadata": {},
   "source": [
    "### Manually save weights"
   ]
  },
  {
   "cell_type": "code",
   "execution_count": 18,
   "id": "robust-journalism",
   "metadata": {},
   "outputs": [
    {
     "name": "stdout",
     "output_type": "stream",
     "text": [
      "32/32 - 0s - loss: 0.4772 - sparse_categorical_accuracy: 0.8820\n",
      "Restored mod: Acc: 88.20%\n"
     ]
    }
   ],
   "source": [
    "mod.save_weights('./checkpoints/my_checkpoint')\n",
    "mod = create_mod()\n",
    "mod.load_weights('./checkpoints/my_checkpoint')\n",
    "loss, acc = mod.evaluate(X_test, y_test, verbose=2)\n",
    "print(f'Restored mod: Acc: {100 * acc:5.2f}%')"
   ]
  },
  {
   "cell_type": "code",
   "execution_count": null,
   "id": "received-berlin",
   "metadata": {},
   "outputs": [],
   "source": []
  }
 ],
 "metadata": {
  "kernelspec": {
   "display_name": "Python 3",
   "language": "python",
   "name": "python3"
  },
  "language_info": {
   "codemirror_mode": {
    "name": "ipython",
    "version": 3
   },
   "file_extension": ".py",
   "mimetype": "text/x-python",
   "name": "python",
   "nbconvert_exporter": "python",
   "pygments_lexer": "ipython3",
   "version": "3.8.8"
  }
 },
 "nbformat": 4,
 "nbformat_minor": 5
}
