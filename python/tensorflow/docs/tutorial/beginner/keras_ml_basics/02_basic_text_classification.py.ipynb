{
 "cells": [
  {
   "cell_type": "code",
   "execution_count": 1,
   "id": "palestinian-oriental",
   "metadata": {},
   "outputs": [],
   "source": [
    "import os\n",
    "import re\n",
    "import shutil\n",
    "import string\n",
    "\n",
    "import matplotlib.pyplot as plt\n",
    "import tensorflow as tf\n",
    "from   tensorflow.keras import Sequential\n",
    "from   tensorflow.keras import layers, losses, preprocessing\n",
    "from   tensorflow.keras.layers import (\n",
    "    Activation, Dense, Dropout, Embedding, GlobalAveragePooling1D as GAP)\n",
    "from   tensorflow.keras.layers.experimental.preprocessing import (\n",
    "    TextVectorization)\n",
    "from   tensorflow.keras.losses import BinaryCrossentropy as BXE"
   ]
  },
  {
   "cell_type": "code",
   "execution_count": 2,
   "id": "electoral-egyptian",
   "metadata": {},
   "outputs": [
    {
     "data": {
      "text/plain": [
       "'2.4.1'"
      ]
     },
     "execution_count": 2,
     "metadata": {},
     "output_type": "execute_result"
    }
   ],
   "source": [
    "tf.__version__"
   ]
  },
  {
   "cell_type": "code",
   "execution_count": 3,
   "id": "foster-machine",
   "metadata": {},
   "outputs": [],
   "source": [
    "DATA = '../../../../../data'"
   ]
  },
  {
   "cell_type": "code",
   "execution_count": 4,
   "id": "floral-stage",
   "metadata": {},
   "outputs": [],
   "source": [
    "url = 'https://ai.stanford.edu/~amaas/data/sentiment/aclImdb_v1.tar.gz'\n",
    "subdir = 'aclIMDB'\n",
    "# BROKEN: requires certificate validation--downloading manually:\n",
    "#dataset = tf.keras.utils.get_file(\n",
    "#    'aclImdb_v1', url, untar=True, cache_dir=DATA, cache_subdir=subdir)\n",
    "#dataset_dir = os.path.join(os.path.dirname(dataset), subdir)"
   ]
  },
  {
   "cell_type": "code",
   "execution_count": 5,
   "id": "decent-dependence",
   "metadata": {},
   "outputs": [
    {
     "data": {
      "text/plain": [
       "['imdbEr.txt', 'test', 'imdb.vocab', 'README', 'train']"
      ]
     },
     "execution_count": 5,
     "metadata": {},
     "output_type": "execute_result"
    }
   ],
   "source": [
    "dataset_dir = f'{DATA}/{subdir}'\n",
    "os.listdir(dataset_dir)"
   ]
  },
  {
   "cell_type": "code",
   "execution_count": 6,
   "id": "sophisticated-millennium",
   "metadata": {},
   "outputs": [
    {
     "data": {
      "text/plain": [
       "['urls_unsup.txt',\n",
       " 'neg',\n",
       " 'urls_pos.txt',\n",
       " 'urls_neg.txt',\n",
       " 'pos',\n",
       " 'unsupBow.feat',\n",
       " 'labeledBow.feat']"
      ]
     },
     "execution_count": 6,
     "metadata": {},
     "output_type": "execute_result"
    }
   ],
   "source": [
    "train_dir = os.path.join(dataset_dir, 'train')\n",
    "os.listdir(train_dir)"
   ]
  },
  {
   "cell_type": "code",
   "execution_count": 7,
   "id": "worst-omaha",
   "metadata": {},
   "outputs": [
    {
     "name": "stdout",
     "output_type": "stream",
     "text": [
      "Rachel Griffiths writes and directs this award winning short film. A heartwarming story about coping with grief and cherishing the memory of those we've loved and lost. Although, only 15 minutes long, Griffiths manages to capture so much emotion and truth onto film in the short space of time. Bud Tingwell gives a touching performance as Will, a widower struggling to cope with his wife's death. Will is confronted by the harsh reality of loneliness and helplessness as he proceeds to take care of Ruth's pet cow, Tulip. The film displays the grief and responsibility one feels for those they have loved and lost. Good cinematography, great direction, and superbly acted. It will bring tears to all those who have lost a loved one, and survived.\n"
     ]
    }
   ],
   "source": [
    "sample_file = os.path.join(train_dir, 'pos/1181_9.txt')\n",
    "\n",
    "with open(sample_file) as f:\n",
    "    print(f.read())"
   ]
  },
  {
   "cell_type": "markdown",
   "id": "numerical-devon",
   "metadata": {},
   "source": [
    "Using `text_dataset_from_directory` util, expects directory structure:\n",
    "```\n",
    "main_dir/\n",
    "  class_a/\n",
    "    a_text_1.txt\n",
    "    a_text_2.txt\n",
    "    ...\n",
    "  class_b/\n",
    "    b_text_1.txt\n",
    "    ...\n",
    "```"
   ]
  },
  {
   "cell_type": "code",
   "execution_count": 8,
   "id": "widespread-collins",
   "metadata": {},
   "outputs": [],
   "source": [
    "#remove_dir = os.path.join(train_dir, 'unsup')\n",
    "#shutil.rmtree(remove_dir)"
   ]
  },
  {
   "cell_type": "code",
   "execution_count": 9,
   "id": "appropriate-subject",
   "metadata": {},
   "outputs": [
    {
     "name": "stdout",
     "output_type": "stream",
     "text": [
      "Found 25000 files belonging to 2 classes.\n",
      "Using 20000 files for training.\n"
     ]
    }
   ],
   "source": [
    "BATCH = 32\n",
    "SEED = 1103\n",
    "\n",
    "raw_training_ds = preprocessing.text_dataset_from_directory(\n",
    "    train_dir, \n",
    "    batch_size=BATCH, \n",
    "    validation_split=0.2, \n",
    "    subset='training', \n",
    "    seed=SEED)"
   ]
  },
  {
   "cell_type": "code",
   "execution_count": 10,
   "id": "parallel-packaging",
   "metadata": {},
   "outputs": [
    {
     "name": "stdout",
     "output_type": "stream",
     "text": [
      "Review:\n",
      " b\"Curly Sue is a 6 year old with an abundance of hair and a life as a drifter. She and her father, Bill (Jim Belushi), try to survive on the streets by being small time con artists. In Chicago, Bill decides to jump in front of a car in a pricey parking garage while Curly will scream about lawsuits and traction to the intended victim. It happens to be a very upscale lawyer named Grey (Kelly Lynch) who is appropriately appalled at what she has done. Not only do the scammers make some cash, they get to spend the night at Grey's plush apartment. Even then, Grey feels she owes them more so the three of them hang together for a spell. Grey only knows the lucrative law business and nothing about life. Who better to teach her than Bill and Curly, those savvy experts on life's realities? But, all good things must come to an end and there is no life for a legal expert and a couple of con men. Or is there? This is a sweet and funny movie about the unexpected. Curly is certainly as entertaining as Shirley Temple but much edgier, of course. Belushi gives a rare touching performance as the down on his luck con and Lynch is luminous as the snooty but soft touch lawyer. John Hughes, as writer and director, shows us his magic touch once again, as the script is lively and unpredictable. Just watch Curly and Bill take Grey out for a night, with no money, and see the humorous results. Do you long for happy endings, long promised and finally delivered, with a few uncertain moments in between? This is your made-to-order movie.\"\n",
      "Label: 1\n",
      "Review:\n",
      " b\"This has to be some of the worst direction I've seen. The close-up can be a very powerful shot, but when every scene consists of nothing but close-ups, it loses all its impact. <br /><br />Tony Scott has some very beautiful scenery to work with, the backdrops of Mexico, the cantinas, the beautiful estate where Anthony Quinn lives, and the dusty towns Costner rolls through on his journey for revenge. Unfortunately we only catch quick glimpses of these places before the camera cuts to a picture of a big, giant head. Even the transition scenes where Costner is driving alone across Mexico quickly cut to a close-up. <br /><br />The score is over-dramatic and intrusive, dictating every emotion we should feel. The story itself should have been handled much better. Among other things, too many people pop up out of nowhere to help Costner along - it's just bad writing. <br /><br />It's a typical thriller storyline, but many others have taken the same premise and done outstanding things with it. Costner's No Way Out had a somewhat similar storyline, but it was a much better movie. <br /><br />The ending was completely anticlimactic and suffered from the most melodramatic scoring of the film. This movie was never going to be great, but if we saw more of Mexico and less of giant heads this film might have been watchable.\"\n",
      "Label: 0\n",
      "Review:\n",
      " b'You may say to yourself, \"Don Johnson as Elvis? Can that work? Is it possible? Seems like an terrible choice to me, but perhaps I should have an open mind. Maybe I\\'ll be surprised. Maybe he can pull it off.\"<br /><br />NOT!<br /><br />Don Johnson is not a bad actor. But he is an awful Elvis. He\\'s too short, too weak-voiced, too sharply featured ... well you\\'ve already imagined how bad he would be. Add to that a hokey black wig and heavy-handed eye-liner and mascara and it\\'s a big fat embarrassing mess.<br /><br />The best I can say is that since Johnson\\'s acting is decent and since his impersonation is so far off, after a while you don\\'t even think of him as Elvis anymore. You see him as some other crazed pop star instead. Then, on that level, the movie becomes watchable.<br /><br />Stephanie Zimbalist is also not ideally cast as the tall, beauty queen, Linda Thompson. But she is attractive in her own right and plays the part with the honesty, elegance and intelligence we\\'ve come to expect from all her roles. There may be too much intelligence in her performance. You have to be kind of a dope to stick with a dope abusing dope.<br /><br />There\\'s nothing new to this story; we\\'ve heard it many times before. If you\\'ve looking for new info or insight, you won\\'t find it. It\\'s told as a love story - an unrequited one: Linda for Elvis and Elvis for drugs.'\n",
      "Label: 0\n"
     ]
    }
   ],
   "source": [
    "for text_batch, label_batch in raw_training_ds.take(1):\n",
    "    for i in range(3):\n",
    "        print('Review:\\n', text_batch.numpy()[i])\n",
    "        print('Label:', label_batch.numpy()[i])"
   ]
  },
  {
   "cell_type": "code",
   "execution_count": 11,
   "id": "functioning-roads",
   "metadata": {},
   "outputs": [
    {
     "name": "stdout",
     "output_type": "stream",
     "text": [
      "Label 0 corresponds to neg\n",
      "Label 1 corresponds to pos\n"
     ]
    }
   ],
   "source": [
    "for encoding in [0, 1]:\n",
    "    print(f'Label {encoding} corresponds to '\n",
    "          f'{raw_training_ds.class_names[encoding]}')"
   ]
  },
  {
   "cell_type": "code",
   "execution_count": 12,
   "id": "sustainable-brazilian",
   "metadata": {},
   "outputs": [
    {
     "name": "stdout",
     "output_type": "stream",
     "text": [
      "Found 25000 files belonging to 2 classes.\n"
     ]
    }
   ],
   "source": [
    "raw_val_ds = tf.keras.preprocessing.text_dataset_from_directory(\n",
    "    f'{DATA}/aclIMDB/train', batch_size=BATCH)"
   ]
  },
  {
   "cell_type": "code",
   "execution_count": 13,
   "id": "awful-reverse",
   "metadata": {},
   "outputs": [
    {
     "name": "stdout",
     "output_type": "stream",
     "text": [
      "Found 25000 files belonging to 2 classes.\n"
     ]
    }
   ],
   "source": [
    "raw_test_ds = tf.keras.preprocessing.text_dataset_from_directory(\n",
    "    f'{DATA}/aclIMDB/test', batch_size=BATCH)"
   ]
  },
  {
   "cell_type": "code",
   "execution_count": 14,
   "id": "rising-import",
   "metadata": {},
   "outputs": [],
   "source": [
    "def custom_standardization(input_data):\n",
    "    lowercase = tf.strings.lower(input_data)\n",
    "    stripped_html = tf.strings.regex_replace(lowercase, '<br />', ' ')\n",
    "    return tf.strings.regex_replace(\n",
    "        stripped_html, '[%s]' % re.escape(string.punctuation), '')"
   ]
  },
  {
   "cell_type": "code",
   "execution_count": 15,
   "id": "assured-prompt",
   "metadata": {},
   "outputs": [],
   "source": [
    "MAX_FEATURES = 10_000\n",
    "SEQ_LEN = 250"
   ]
  },
  {
   "cell_type": "code",
   "execution_count": 16,
   "id": "minute-shuttle",
   "metadata": {},
   "outputs": [],
   "source": [
    "vectorize_layer = TextVectorization(standardize=custom_standardization, \n",
    "                                    max_tokens=MAX_FEATURES,\n",
    "                                    output_mode='int',\n",
    "                                    output_sequence_length=SEQ_LEN)"
   ]
  },
  {
   "cell_type": "code",
   "execution_count": 17,
   "id": "medical-light",
   "metadata": {},
   "outputs": [],
   "source": [
    "# Make text-only dataset (no labes), then adapt()\n",
    "train_text = raw_training_ds.map(lambda x, y: x)\n",
    "vectorize_layer.adapt(train_text)"
   ]
  },
  {
   "cell_type": "code",
   "execution_count": 18,
   "id": "minus-beijing",
   "metadata": {},
   "outputs": [],
   "source": [
    "def vectorize_text(text, label):\n",
    "    text = tf.expand_dims(text, -1)\n",
    "    return vectorize_layer(text), label"
   ]
  },
  {
   "cell_type": "code",
   "execution_count": 19,
   "id": "optical-monster",
   "metadata": {},
   "outputs": [
    {
     "name": "stdout",
     "output_type": "stream",
     "text": [
      "Reveiw:\n",
      "b'\"Revolt of the Zombies\" proves that having the same director revamp and recycle an idea doesn\\'t necessarily make lightning strike twice.<br /><br />The Halperin brothers, responsible for the horror classic \"White Zombie\", made this trite piece of garbage a mere few years later to cash in on its popularity and even recycled close-ups of Lugosi\\'s eyes from that previous film. There was a court battle with the \"White Zombie\" film\\'s rights owners, who didn\\'t want the Halperins to be able to use the word \\'zombie\\' in this title. That word was the only thing that could help this film, because, as everyone knows, bad films can make much more money simply by having the word \\'Zombie\\' appear in the title. Knowing what Victor Halperin was capable of a few years before only makes this uninteresting film more insulting. It seems he never directed another horror film after this debacle. The zombies here seem not to be true walking dead, but simply hypnotism victims.<br /><br />Wanna create a mind-controlled army of zombies? Be ready to crack a few eggs, including your own.<br /><br />THE LAME PLOT: Man falls in love with scheming woman who plays with his heart and becomes engaged to him only to make his friend, whom she loves, jealous. This sends man into a spiral of madness in which he tries using zombie mind-control techniques to change things to his advantage in an attempt to win over a woman who isn\\'t worth spit.<br /><br />This includes one of the most blatantly obvious plot developments I\\'ve ever seen. You\\'d have to be blind or stupid not to see the ending coming. The acting isn\\'t even good. This movie makes the racially insensitive \"King of the Zombies\" (which appeared on the same double bill DVD I bought) seems like an atmospheric horror masterpiece by comparison and reminds us that not every black and white film is a classic. It makes the atomic age sci-fi alien zombie cheese fest \"Invisible Invaders\" seem like a serious drama. This is one big ball of cheese so ridiculously melodramatic it could probably make many a Korean film fan twitch (South Korean films are often known for their use of melodrama). The credits list the ironically named company Favorite Films. I\\'m not sure whose favorite film this would be, but they\\'re obviously an idiot.<br /><br />Not recommended for fans of: zombies, romance, or classic films.'\n",
      "Label: neg\n",
      "Vectorized review:\n",
      "(<tf.Tensor: shape=(1, 250), dtype=int64, numpy=\n",
      "array([[7354,    5,    2, 1040, 1452,   12,  251,    2,  166,  172,    1,\n",
      "           4,    1,   33,  313,  148, 2634,   96, 6737, 3612, 1359,    2,\n",
      "           1,  943, 1832,   15,    2,  191,  342,  456,  828,   91,   10,\n",
      "        3005,  402,    5, 1181,    3, 2642,  162,  145,  299,    6, 2218,\n",
      "           8,   20,   29, 5110,    4,   53, 5660, 3536,    5,    1,  512,\n",
      "          35,   12,  935,   19,   47,   13,    3, 2681,  974,   16,    2,\n",
      "         456,  828,   97, 2480, 5058,   36,  152,  177,    2,    1,    6,\n",
      "          27,  488,    6,  345,    2,  682,  828,    8,   10,  415,   12,\n",
      "         682,   13,    2,   61,  150,   12,   95,  326,   10,   19,   80,\n",
      "          14,  303,  686,   82,   97,   68,   96,   72,   50,  279,  318,\n",
      "          32,  251,    2,  682,  828,  926,    8,    2,  415, 1217,   48,\n",
      "        2134,    1,   13, 2167,    5,    3,  162,  145,  153,   61,  160,\n",
      "          10, 2507,   19,   50, 3497,    9,  182,   26,  109,  528,  154,\n",
      "         191,   19,  100,   10, 9602,    2, 1040,  128,  295,   21,    6,\n",
      "          27,  271, 1259,  358,   18,  318,    1, 1322, 3268,  970,    3,\n",
      "           1, 1222,    5, 1040,   27, 1609,    6, 4448,    3,  162, 9587,\n",
      "         563,  123,  194,    2,  830,  111,  131,  713,    8,  115,   16,\n",
      "        7617,  242,   36,  288,   16,   24,  533,    4,  445, 3826,    6,\n",
      "          85,   61,    6,   96,   24,  471,  912,   54, 1293, 3594,   10,\n",
      "        3340,  131,   77,    3, 7889,    5, 2918,    8,   60,   26,  490,\n",
      "         737,  828,    1, 3314,    6,  631,  173,    6,   24, 3062,    8,\n",
      "          33,  580,    6, 1147,  125,    3,  242,   36,  211,  287, 7338,\n",
      "          10, 1623,   28,    5,    2,   88, 5265,  564]])>, <tf.Tensor: shape=(), dtype=int32, numpy=0>)\n"
     ]
    }
   ],
   "source": [
    "# Get batch of reviews and labels from data set\n",
    "text_batch, label_batch = next(iter(raw_training_ds))\n",
    "first_review, first_label = text_batch[0], label_batch[0]\n",
    "print(f'Reveiw:\\n{first_review}')\n",
    "print('Label:', raw_training_ds.class_names[first_label])\n",
    "print(f'Vectorized review:\\n{vectorize_text(first_review, first_label)}')"
   ]
  },
  {
   "cell_type": "code",
   "execution_count": 20,
   "id": "pregnant-brazilian",
   "metadata": {},
   "outputs": [
    {
     "name": "stdout",
     "output_type": "stream",
     "text": [
      "1694 -> normally\n",
      "11 -> i\n",
      "89 -> dont\n",
      "Vocab size: 10000\n"
     ]
    }
   ],
   "source": [
    "for vec in [1694, 11, 89]:\n",
    "    print(f'{vec} -> {vectorize_layer.get_vocabulary()[vec]}')\n",
    "print('Vocab size:', len(vectorize_layer.get_vocabulary()))"
   ]
  },
  {
   "cell_type": "code",
   "execution_count": 21,
   "id": "dimensional-explorer",
   "metadata": {},
   "outputs": [],
   "source": [
    "train_ds = raw_training_ds.map(vectorize_text)\n",
    "val_ds = raw_val_ds.map(vectorize_text)\n",
    "test_ds = raw_test_ds.map(vectorize_text)"
   ]
  },
  {
   "cell_type": "code",
   "execution_count": 22,
   "id": "driven-effects",
   "metadata": {},
   "outputs": [],
   "source": [
    "AUTOTUNE = tf.data.AUTOTUNE\n",
    "train_ds = train_ds.cache().prefetch(buffer_size=AUTOTUNE)\n",
    "val_ds = val_ds.cache().prefetch(buffer_size=AUTOTUNE)\n",
    "test_ds = test_ds.cache().prefetch(buffer_size=AUTOTUNE)"
   ]
  },
  {
   "cell_type": "code",
   "execution_count": 23,
   "id": "secret-clerk",
   "metadata": {},
   "outputs": [],
   "source": [
    "EMBED_DIM = 32"
   ]
  },
  {
   "cell_type": "code",
   "execution_count": 24,
   "id": "liable-channels",
   "metadata": {},
   "outputs": [
    {
     "name": "stdout",
     "output_type": "stream",
     "text": [
      "Model: \"sequential\"\n",
      "_________________________________________________________________\n",
      "Layer (type)                 Output Shape              Param #   \n",
      "=================================================================\n",
      "embedding (Embedding)        (None, None, 32)          320032    \n",
      "_________________________________________________________________\n",
      "dropout (Dropout)            (None, None, 32)          0         \n",
      "_________________________________________________________________\n",
      "global_average_pooling1d (Gl (None, 32)                0         \n",
      "_________________________________________________________________\n",
      "dropout_1 (Dropout)          (None, 32)                0         \n",
      "_________________________________________________________________\n",
      "dense (Dense)                (None, 1)                 33        \n",
      "=================================================================\n",
      "Total params: 320,065\n",
      "Trainable params: 320,065\n",
      "Non-trainable params: 0\n",
      "_________________________________________________________________\n"
     ]
    }
   ],
   "source": [
    "mod = Sequential([Embedding(MAX_FEATURES + 1, EMBED_DIM),\n",
    "                  Dropout(0.2),\n",
    "                  GAP(),\n",
    "                  Dropout(0.2),\n",
    "                  Dense(1)])\n",
    "mod.summary()"
   ]
  },
  {
   "cell_type": "code",
   "execution_count": 25,
   "id": "listed-mapping",
   "metadata": {},
   "outputs": [],
   "source": [
    "mod.compile(loss=losses.BinaryCrossentropy(from_logits=True),\n",
    "            optimizer='adam',\n",
    "            metrics=tf.metrics.BinaryAccuracy(threshold=0.))"
   ]
  },
  {
   "cell_type": "code",
   "execution_count": 26,
   "id": "round-philip",
   "metadata": {},
   "outputs": [
    {
     "name": "stdout",
     "output_type": "stream",
     "text": [
      "Epoch 1/10\n",
      "625/625 [==============================] - 9s 13ms/step - loss: 0.6752 - binary_accuracy: 0.6732 - val_loss: 0.5607 - val_binary_accuracy: 0.7936\n",
      "Epoch 2/10\n",
      "625/625 [==============================] - 2s 3ms/step - loss: 0.5199 - binary_accuracy: 0.8110 - val_loss: 0.4161 - val_binary_accuracy: 0.8554\n",
      "Epoch 3/10\n",
      "625/625 [==============================] - 2s 3ms/step - loss: 0.3947 - binary_accuracy: 0.8601 - val_loss: 0.3431 - val_binary_accuracy: 0.8758\n",
      "Epoch 4/10\n",
      "625/625 [==============================] - 2s 3ms/step - loss: 0.3285 - binary_accuracy: 0.8808 - val_loss: 0.3014 - val_binary_accuracy: 0.8891\n",
      "Epoch 5/10\n",
      "625/625 [==============================] - 2s 3ms/step - loss: 0.2882 - binary_accuracy: 0.8932 - val_loss: 0.2730 - val_binary_accuracy: 0.8988\n",
      "Epoch 6/10\n",
      "625/625 [==============================] - 2s 3ms/step - loss: 0.2582 - binary_accuracy: 0.9061 - val_loss: 0.2516 - val_binary_accuracy: 0.9060\n",
      "Epoch 7/10\n",
      "625/625 [==============================] - 2s 3ms/step - loss: 0.2370 - binary_accuracy: 0.9139 - val_loss: 0.2345 - val_binary_accuracy: 0.9132\n",
      "Epoch 8/10\n",
      "625/625 [==============================] - 2s 3ms/step - loss: 0.2171 - binary_accuracy: 0.9209 - val_loss: 0.2202 - val_binary_accuracy: 0.9185\n",
      "Epoch 9/10\n",
      "625/625 [==============================] - 2s 3ms/step - loss: 0.2009 - binary_accuracy: 0.9259 - val_loss: 0.2081 - val_binary_accuracy: 0.9238\n",
      "Epoch 10/10\n",
      "625/625 [==============================] - 2s 3ms/step - loss: 0.1875 - binary_accuracy: 0.9345 - val_loss: 0.1976 - val_binary_accuracy: 0.9286\n"
     ]
    }
   ],
   "source": [
    "EPOCHS = 10\n",
    "history = mod.fit(train_ds, validation_data=val_ds, epochs=EPOCHS)"
   ]
  },
  {
   "cell_type": "code",
   "execution_count": 27,
   "id": "successful-potato",
   "metadata": {},
   "outputs": [
    {
     "name": "stdout",
     "output_type": "stream",
     "text": [
      "782/782 [==============================] - 10s 13ms/step - loss: 0.3103 - binary_accuracy: 0.8726\n"
     ]
    },
    {
     "data": {
      "text/plain": [
       "(0.3102891743183136, 0.8726000189781189)"
      ]
     },
     "execution_count": 27,
     "metadata": {},
     "output_type": "execute_result"
    }
   ],
   "source": [
    "loss, accuracy = mod.evaluate(test_ds)\n",
    "loss, accuracy"
   ]
  },
  {
   "cell_type": "code",
   "execution_count": 28,
   "id": "latest-bruce",
   "metadata": {},
   "outputs": [
    {
     "data": {
      "text/plain": [
       "Text(0, 0.5, 'Loss')"
      ]
     },
     "execution_count": 28,
     "metadata": {},
     "output_type": "execute_result"
    },
    {
     "data": {
      "image/png": "[encoded data removed]",
      "text/plain": [
       "<Figure size 432x288 with 1 Axes>"
      ]
     },
     "metadata": {
      "needs_background": "light"
     },
     "output_type": "display_data"
    }
   ],
   "source": [
    "acc = history.history['binary_accuracy']\n",
    "val_acc = history.history['val_binary_accuracy']\n",
    "loss = history.history['loss']\n",
    "val_loss = history.history['val_loss']\n",
    "ep = range(1, EPOCHS + 1)\n",
    "\n",
    "plt.plot(ep, loss, 'k', label='Training')\n",
    "plt.plot(ep, val_loss, 'r', label='Validation')\n",
    "plt.legend()\n",
    "plt.xlabel('Epochs')\n",
    "plt.ylabel('Loss')"
   ]
  },
  {
   "cell_type": "code",
   "execution_count": 29,
   "id": "referenced-tonight",
   "metadata": {},
   "outputs": [
    {
     "data": {
      "text/plain": [
       "Text(0, 0.5, 'Accuracy')"
      ]
     },
     "execution_count": 29,
     "metadata": {},
     "output_type": "execute_result"
    },
    {
     "data": {
      "image/png": "[encoded data removed]",
      "text/plain": [
       "<Figure size 432x288 with 1 Axes>"
      ]
     },
     "metadata": {
      "needs_background": "light"
     },
     "output_type": "display_data"
    }
   ],
   "source": [
    "plt.plot(ep, acc, 'k', label='Training')\n",
    "plt.plot(ep, val_acc, 'r', label='Validation')\n",
    "plt.legend()\n",
    "plt.xlabel('Epochs')\n",
    "plt.ylabel('Accuracy')"
   ]
  },
  {
   "cell_type": "code",
   "execution_count": 30,
   "id": "pointed-finding",
   "metadata": {},
   "outputs": [],
   "source": [
    "export_mod = Sequential([vectorize_layer, mod, Activation('sigmoid')])\n",
    "export_mod.compile(\n",
    "    loss=BXE(from_logits=False), optimizer='adam', metrics=['accuracy'])"
   ]
  },
  {
   "cell_type": "code",
   "execution_count": 31,
   "id": "sharp-orchestra",
   "metadata": {},
   "outputs": [
    {
     "name": "stdout",
     "output_type": "stream",
     "text": [
      "782/782 [==============================] - 5s 6ms/step - loss: 0.3119 - accuracy: 0.8722\n"
     ]
    },
    {
     "data": {
      "text/plain": [
       "0.8726000189781189"
      ]
     },
     "execution_count": 31,
     "metadata": {},
     "output_type": "execute_result"
    }
   ],
   "source": [
    "loss, accuracy = export_mod.evaluate(raw_test_ds)\n",
    "accuracy"
   ]
  },
  {
   "cell_type": "code",
   "execution_count": 32,
   "id": "undefined-diving",
   "metadata": {},
   "outputs": [
    {
     "data": {
      "text/plain": [
       "array([[0.63358986],\n",
       "       [0.55184394],\n",
       "       [0.4377261 ]], dtype=float32)"
      ]
     },
     "execution_count": 32,
     "metadata": {},
     "output_type": "execute_result"
    }
   ],
   "source": [
    "examples = [\n",
    "    'The movie was great!', 'The movie was fine', 'The movie sucked']\n",
    "export_mod.predict(examples)"
   ]
  },
  {
   "cell_type": "markdown",
   "id": "dirty-queens",
   "metadata": {},
   "source": [
    "Notebook adapted from TF docs/tutorial: \n",
    "https://www.tensorflow.org/tutorials/keras/text_classification#evaluate_the_model"
   ]
  },
  {
   "cell_type": "code",
   "execution_count": 36,
   "id": "direct-facial",
   "metadata": {},
   "outputs": [],
   "source": [
    "# MIT License\n",
    "#\n",
    "# Copyright (c) 2017 François Chollet\n",
    "#\n",
    "# Permission is hereby granted, free of charge, to any person obtaining a\n",
    "# copy of this software and associated documentation files (the \"Software\"),\n",
    "# to deal in the Software without restriction, including without limitation\n",
    "# the rights to use, copy, modify, merge, publish, distribute, sublicense,\n",
    "# and/or sell copies of the Software, and to permit persons to whom the\n",
    "# Software is furnished to do so, subject to the following conditions:\n",
    "#\n",
    "# The above copyright notice and this permission notice shall be included in\n",
    "# all copies or substantial portions of the Software.\n",
    "#\n",
    "# THE SOFTWARE IS PROVIDED \"AS IS\", WITHOUT WARRANTY OF ANY KIND, EXPRESS OR\n",
    "# IMPLIED, INCLUDING BUT NOT LIMITED TO THE WARRANTIES OF MERCHANTABILITY,\n",
    "# FITNESS FOR A PARTICULAR PURPOSE AND NONINFRINGEMENT. IN NO EVENT SHALL\n",
    "# THE AUTHORS OR COPYRIGHT HOLDERS BE LIABLE FOR ANY CLAIM, DAMAGES OR OTHER\n",
    "# LIABILITY, WHETHER IN AN ACTION OF CONTRACT, TORT OR OTHERWISE, ARISING\n",
    "# FROM, OUT OF OR IN CONNECTION WITH THE SOFTWARE OR THE USE OR OTHER\n",
    "# DEALINGS IN THE SOFTWARE."
   ]
  },
  {
   "cell_type": "code",
   "execution_count": null,
   "id": "young-factor",
   "metadata": {},
   "outputs": [],
   "source": []
  }
 ],
 "metadata": {
  "kernelspec": {
   "display_name": "Python 3",
   "language": "python",
   "name": "python3"
  },
  "language_info": {
   "codemirror_mode": {
    "name": "ipython",
    "version": 3
   },
   "file_extension": ".py",
   "mimetype": "text/x-python",
   "name": "python",
   "nbconvert_exporter": "python",
   "pygments_lexer": "ipython3",
   "version": "3.8.8"
  }
 },
 "nbformat": 4,
 "nbformat_minor": 5
}
