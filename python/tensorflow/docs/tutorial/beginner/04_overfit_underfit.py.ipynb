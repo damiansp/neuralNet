{
 "cells": [
  {
   "cell_type": "code",
   "execution_count": 1,
   "id": "resident-migration",
   "metadata": {},
   "outputs": [],
   "source": [
    "#!pip install git+https://github.com/tensorflow/docs"
   ]
  },
  {
   "cell_type": "code",
   "execution_count": 2,
   "id": "russian-richards",
   "metadata": {},
   "outputs": [
    {
     "data": {
      "text/plain": [
       "'2.4.0'"
      ]
     },
     "execution_count": 2,
     "metadata": {},
     "output_type": "execute_result"
    }
   ],
   "source": [
    "import pathlib\n",
    "import shutil\n",
    "import tempfile\n",
    "\n",
    "from   IPython import display\n",
    "from   matplotlib import pyplot as plt\n",
    "import numpy as np\n",
    "import tensorflow as tf\n",
    "from   tensorflow.keras import layers, regularizers, Sequential\n",
    "from   tensorflow.keras.callbacks import EarlyStopping, TensorBoard\n",
    "from   tensorflow.keras.layers import Dense\n",
    "from   tensorflow.keras.losses import BinaryCrossentropy\n",
    "from   tensorflow.keras.optimizers import Adam, schedules\n",
    "import tensorflow_docs as tfdocs\n",
    "from   tensorflow_docs import modeling, plots\n",
    "\n",
    "tf.__version__"
   ]
  },
  {
   "cell_type": "code",
   "execution_count": 3,
   "id": "shaped-ecuador",
   "metadata": {},
   "outputs": [],
   "source": [
    "logdir = pathlib.Path(tempfile.mkdtemp())/'tensorboard_logs'\n",
    "shutil.rmtree(logdir, ignore_errors=True)"
   ]
  },
  {
   "cell_type": "code",
   "execution_count": 4,
   "id": "improving-native",
   "metadata": {},
   "outputs": [],
   "source": [
    "gz = tf.keras.utils.get_file(\n",
    "    'HIGGS.csv.gz', \n",
    "    'http://mlphysics.ics.uci.edu/data/higgs/HIGGS.csv.gz')"
   ]
  },
  {
   "cell_type": "code",
   "execution_count": 5,
   "id": "acquired-complexity",
   "metadata": {},
   "outputs": [],
   "source": [
    "FEATURES = 28"
   ]
  },
  {
   "cell_type": "code",
   "execution_count": 6,
   "id": "expanded-giving",
   "metadata": {},
   "outputs": [],
   "source": [
    "ds = tf.data.experimental.CsvDataset(gz, [float(), ] * (FEATURES + 1), \n",
    "                                     compression_type='GZIP' )"
   ]
  },
  {
   "cell_type": "code",
   "execution_count": 7,
   "id": "rental-vintage",
   "metadata": {},
   "outputs": [],
   "source": [
    "def pack_row(*row):\n",
    "    label = row[0]\n",
    "    features = tf.stack(row[1:], 1)\n",
    "    return features, label"
   ]
  },
  {
   "cell_type": "code",
   "execution_count": 8,
   "id": "white-updating",
   "metadata": {},
   "outputs": [],
   "source": [
    "packed_ds = ds.batch(10_000).map(pack_row).unbatch()"
   ]
  },
  {
   "cell_type": "code",
   "execution_count": 9,
   "id": "similar-wesley",
   "metadata": {},
   "outputs": [
    {
     "name": "stdout",
     "output_type": "stream",
     "text": [
      "tf.Tensor(\n",
      "[ 0.8692932  -0.6350818   0.22569026  0.32747006 -0.6899932   0.75420225\n",
      " -0.24857314 -1.0920639   0.          1.3749921  -0.6536742   0.9303491\n",
      "  1.1074361   1.1389043  -1.5781983  -1.0469854   0.          0.65792954\n",
      " -0.01045457 -0.04576717  3.1019614   1.35376     0.9795631   0.97807616\n",
      "  0.92000484  0.72165745  0.98875093  0.87667835], shape=(28,), dtype=float32)\n"
     ]
    },
    {
     "data": {
      "image/png": "[encoded data removed]",
      "text/plain": [
       "<Figure size 432x288 with 1 Axes>"
      ]
     },
     "metadata": {
      "needs_background": "light"
     },
     "output_type": "display_data"
    }
   ],
   "source": [
    "for features, label in packed_ds.batch(1000).take(1):\n",
    "    print(features[0])\n",
    "    plt.hist(features.numpy().flatten(), bins=101)"
   ]
  },
  {
   "cell_type": "code",
   "execution_count": 10,
   "id": "fabulous-favor",
   "metadata": {},
   "outputs": [],
   "source": [
    "N_VALID = 1000\n",
    "N_TRAIN = 10_000\n",
    "BUFFER = 10_000\n",
    "BATCH = 500\n",
    "STEPS_PER_EPOCH = N_TRAIN // BATCH"
   ]
  },
  {
   "cell_type": "code",
   "execution_count": 11,
   "id": "subtle-anime",
   "metadata": {},
   "outputs": [
    {
     "data": {
      "text/plain": [
       "<CacheDataset shapes: ((28,), ()), types: (tf.float32, tf.float32)>"
      ]
     },
     "execution_count": 11,
     "metadata": {},
     "output_type": "execute_result"
    }
   ],
   "source": [
    "valid_ds = packed_ds.take(N_VALID).cache()\n",
    "train_ds = packed_ds.skip(N_VALID).take(N_TRAIN).cache()\n",
    "train_ds"
   ]
  },
  {
   "cell_type": "code",
   "execution_count": 12,
   "id": "unable-cleaner",
   "metadata": {},
   "outputs": [],
   "source": [
    "valid_ds = valid_ds.batch(BATCH)\n",
    "train_ds = train_ds.shuffle(BUFFER).repeat().batch(BATCH)"
   ]
  },
  {
   "cell_type": "markdown",
   "id": "limited-booking",
   "metadata": {},
   "source": [
    "## Overfit Demo"
   ]
  },
  {
   "cell_type": "code",
   "execution_count": 13,
   "id": "vocal-flashing",
   "metadata": {},
   "outputs": [],
   "source": [
    "lr_schedule = schedules.InverseTimeDecay(\n",
    "    0.001,\n",
    "    decay_steps=STEPS_PER_EPOCH * 1000,\n",
    "    decay_rate=1,\n",
    "    staircase=False)"
   ]
  },
  {
   "cell_type": "code",
   "execution_count": 14,
   "id": "governmental-malpractice",
   "metadata": {},
   "outputs": [],
   "source": [
    "def get_optimizer():\n",
    "    return Adam(lr_schedule)"
   ]
  },
  {
   "cell_type": "code",
   "execution_count": 15,
   "id": "ready-language",
   "metadata": {},
   "outputs": [
    {
     "data": {
      "image/png": "[encoded data removed]",
      "text/plain": [
       "<Figure size 576x432 with 1 Axes>"
      ]
     },
     "metadata": {
      "needs_background": "light"
     },
     "output_type": "display_data"
    }
   ],
   "source": [
    "step = np.linspace(0, 100_000)\n",
    "lr = lr_schedule(step)\n",
    "plt.figure(figsize=(8, 6))\n",
    "plt.plot(step / STEPS_PER_EPOCH, lr)\n",
    "plt.ylim([0, max(plt.ylim())])\n",
    "plt.xlabel('Epoch')\n",
    "plt.ylabel('Learning Rate');"
   ]
  },
  {
   "cell_type": "code",
   "execution_count": 16,
   "id": "considerable-wednesday",
   "metadata": {},
   "outputs": [],
   "source": [
    "def get_callbacks(name):\n",
    "    return [\n",
    "        tfdocs.modeling.EpochDots(),\n",
    "        EarlyStopping(monitor='val_bxe', patience=200),\n",
    "        TensorBoard(logdir/name)]"
   ]
  },
  {
   "cell_type": "code",
   "execution_count": 17,
   "id": "divided-coupon",
   "metadata": {},
   "outputs": [],
   "source": [
    "def compile_and_fit(mod, name, optimizer=None, max_epochs=10_000):\n",
    "    optimizer = get_optimizer() if optimizer is None else optimizer\n",
    "    mod.compile(optimizer=optimizer,\n",
    "               loss=BinaryCrossentropy(from_logits=True),\n",
    "               metrics=[BinaryCrossentropy(from_logits=True, name='bxe'),\n",
    "                        'accuracy'])\n",
    "    mod.summary()\n",
    "    hist = mod.fit(train_ds,\n",
    "                   steps_per_epoch=STEPS_PER_EPOCH,\n",
    "                   epochs=max_epochs,\n",
    "                   validation_data=valid_ds,\n",
    "                   callbacks=get_callbacks(name),\n",
    "                   verbose=0)\n",
    "    return hist"
   ]
  },
  {
   "cell_type": "code",
   "execution_count": 18,
   "id": "emerging-relationship",
   "metadata": {},
   "outputs": [],
   "source": [
    "tiny_mod = Sequential([\n",
    "    Dense(16, activation='relu', input_shape=(FEATURES,)),\n",
    "    Dense(1)])"
   ]
  },
  {
   "cell_type": "code",
   "execution_count": 19,
   "id": "brave-bunch",
   "metadata": {},
   "outputs": [
    {
     "name": "stdout",
     "output_type": "stream",
     "text": [
      "Model: \"sequential\"\n",
      "_________________________________________________________________\n",
      "Layer (type)                 Output Shape              Param #   \n",
      "=================================================================\n",
      "dense (Dense)                (None, 16)                464       \n",
      "_________________________________________________________________\n",
      "dense_1 (Dense)              (None, 1)                 17        \n",
      "=================================================================\n",
      "Total params: 481\n",
      "Trainable params: 481\n",
      "Non-trainable params: 0\n",
      "_________________________________________________________________\n",
      "WARNING:tensorflow:Callback method `on_train_batch_end` is slow compared to the batch time (batch time: 0.0012s vs `on_train_batch_end` time: 0.0063s). Check your callbacks.\n",
      "\n",
      "Epoch: 0, accuracy:0.4972,  bxe:0.7546,  loss:0.7546,  val_accuracy:0.4760,  val_bxe:0.7320,  val_loss:0.7320,  \n",
      "....................................................................................................\n",
      "Epoch: 100, accuracy:0.6172,  bxe:0.6157,  loss:0.6157,  val_accuracy:0.5870,  val_bxe:0.6271,  val_loss:0.6271,  \n",
      "....................................................................................................\n",
      "Epoch: 200, accuracy:0.6409,  bxe:0.5993,  loss:0.5993,  val_accuracy:0.6110,  val_bxe:0.6124,  val_loss:0.6124,  \n",
      "....................................................................................................\n",
      "Epoch: 300, accuracy:0.6605,  bxe:0.5845,  loss:0.5845,  val_accuracy:0.6320,  val_bxe:0.6057,  val_loss:0.6057,  \n",
      "....................................................................................................\n",
      "Epoch: 400, accuracy:0.6768,  bxe:0.5754,  loss:0.5754,  val_accuracy:0.6490,  val_bxe:0.6015,  val_loss:0.6015,  \n",
      "....................................................................................................\n",
      "Epoch: 500, accuracy:0.6824,  bxe:0.5702,  loss:0.5702,  val_accuracy:0.6520,  val_bxe:0.6025,  val_loss:0.6025,  \n",
      "....................................................................................................\n",
      "Epoch: 600, accuracy:0.6864,  bxe:0.5675,  loss:0.5675,  val_accuracy:0.6470,  val_bxe:0.6020,  val_loss:0.6020,  \n",
      "....................................................................................................\n",
      "Epoch: 700, accuracy:0.6905,  bxe:0.5659,  loss:0.5659,  val_accuracy:0.6440,  val_bxe:0.6022,  val_loss:0.6022,  \n",
      "....................................................................................................\n",
      "Epoch: 800, accuracy:0.6907,  bxe:0.5640,  loss:0.5640,  val_accuracy:0.6520,  val_bxe:0.5999,  val_loss:0.5999,  \n",
      "....................................................................................................\n",
      "Epoch: 900, accuracy:0.6931,  bxe:0.5626,  loss:0.5626,  val_accuracy:0.6510,  val_bxe:0.6003,  val_loss:0.6003,  \n",
      "....................................................................................................\n",
      "Epoch: 1000, accuracy:0.6916,  bxe:0.5610,  loss:0.5610,  val_accuracy:0.6510,  val_bxe:0.5987,  val_loss:0.5987,  \n",
      "....................................................................................................\n",
      "Epoch: 1100, accuracy:0.6938,  bxe:0.5605,  loss:0.5605,  val_accuracy:0.6470,  val_bxe:0.5997,  val_loss:0.5997,  \n",
      "....................................................................................................\n",
      "Epoch: 1200, accuracy:0.6919,  bxe:0.5593,  loss:0.5593,  val_accuracy:0.6550,  val_bxe:0.5988,  val_loss:0.5988,  \n",
      "................................................................."
     ]
    }
   ],
   "source": [
    "size_histories = {'Tiny': compile_and_fit(tiny_mod, 'sizes/Tiny')}"
   ]
  },
  {
   "cell_type": "code",
   "execution_count": 20,
   "id": "atmospheric-color",
   "metadata": {},
   "outputs": [
    {
     "data": {
      "text/plain": [
       "(0.5, 0.7)"
      ]
     },
     "execution_count": 20,
     "metadata": {},
     "output_type": "execute_result"
    },
    {
     "data": {
      "image/png": "[encoded data removed]",
      "text/plain": [
       "<Figure size 432x288 with 1 Axes>"
      ]
     },
     "metadata": {
      "needs_background": "light"
     },
     "output_type": "display_data"
    }
   ],
   "source": [
    "plotter = tfdocs.plots.HistoryPlotter(metric='bxe', smoothing_std=10)\n",
    "plotter.plot(size_histories)\n",
    "plt.ylim([0.5, 0.7])"
   ]
  },
  {
   "cell_type": "code",
   "execution_count": 21,
   "id": "associate-blocking",
   "metadata": {},
   "outputs": [],
   "source": [
    "small_mod = Sequential([\n",
    "    Dense(16, activation='relu', input_shape=(FEATURES,)),\n",
    "    Dense(16, activation='relu'),\n",
    "    Dense(1)\n",
    "])"
   ]
  },
  {
   "cell_type": "code",
   "execution_count": 22,
   "id": "interstate-valentine",
   "metadata": {},
   "outputs": [
    {
     "name": "stdout",
     "output_type": "stream",
     "text": [
      "Model: \"sequential_1\"\n",
      "_________________________________________________________________\n",
      "Layer (type)                 Output Shape              Param #   \n",
      "=================================================================\n",
      "dense_2 (Dense)              (None, 16)                464       \n",
      "_________________________________________________________________\n",
      "dense_3 (Dense)              (None, 16)                272       \n",
      "_________________________________________________________________\n",
      "dense_4 (Dense)              (None, 1)                 17        \n",
      "=================================================================\n",
      "Total params: 753\n",
      "Trainable params: 753\n",
      "Non-trainable params: 0\n",
      "_________________________________________________________________\n",
      "WARNING:tensorflow:Callback method `on_train_batch_end` is slow compared to the batch time (batch time: 0.0013s vs `on_train_batch_end` time: 0.0108s). Check your callbacks.\n",
      "\n",
      "Epoch: 0, accuracy:0.4778,  bxe:0.7029,  loss:0.7029,  val_accuracy:0.4630,  val_bxe:0.6975,  val_loss:0.6975,  \n",
      "....................................................................................................\n",
      "Epoch: 100, accuracy:0.6470,  bxe:0.5975,  loss:0.5975,  val_accuracy:0.6370,  val_bxe:0.6201,  val_loss:0.6201,  \n",
      "....................................................................................................\n",
      "Epoch: 200, accuracy:0.6790,  bxe:0.5718,  loss:0.5718,  val_accuracy:0.6460,  val_bxe:0.6120,  val_loss:0.6120,  \n",
      "....................................................................................................\n",
      "Epoch: 300, accuracy:0.6939,  bxe:0.5578,  loss:0.5578,  val_accuracy:0.6650,  val_bxe:0.6056,  val_loss:0.6056,  \n",
      "....................................................................................................\n",
      "Epoch: 400, accuracy:0.7033,  bxe:0.5505,  loss:0.5505,  val_accuracy:0.6610,  val_bxe:0.6094,  val_loss:0.6094,  \n",
      "....................................................................................................\n",
      "Epoch: 500, accuracy:0.7003,  bxe:0.5452,  loss:0.5452,  val_accuracy:0.6730,  val_bxe:0.6096,  val_loss:0.6096,  \n",
      "................."
     ]
    }
   ],
   "source": [
    "size_histories['Small'] = compile_and_fit(small_mod, 'sizes/Small')"
   ]
  },
  {
   "cell_type": "code",
   "execution_count": 23,
   "id": "royal-wheat",
   "metadata": {},
   "outputs": [],
   "source": [
    "medium_mod = Sequential([\n",
    "    Dense(64, activation='relu', input_shape=(FEATURES,)),\n",
    "    Dense(64, activation='relu'),\n",
    "    Dense(64, activation='relu'),\n",
    "    Dense(1)\n",
    "])"
   ]
  },
  {
   "cell_type": "code",
   "execution_count": 24,
   "id": "latest-cannon",
   "metadata": {},
   "outputs": [
    {
     "name": "stdout",
     "output_type": "stream",
     "text": [
      "Model: \"sequential_2\"\n",
      "_________________________________________________________________\n",
      "Layer (type)                 Output Shape              Param #   \n",
      "=================================================================\n",
      "dense_5 (Dense)              (None, 64)                1856      \n",
      "_________________________________________________________________\n",
      "dense_6 (Dense)              (None, 64)                4160      \n",
      "_________________________________________________________________\n",
      "dense_7 (Dense)              (None, 64)                4160      \n",
      "_________________________________________________________________\n",
      "dense_8 (Dense)              (None, 1)                 65        \n",
      "=================================================================\n",
      "Total params: 10,241\n",
      "Trainable params: 10,241\n",
      "Non-trainable params: 0\n",
      "_________________________________________________________________\n",
      "WARNING:tensorflow:Callback method `on_train_batch_end` is slow compared to the batch time (batch time: 0.0016s vs `on_train_batch_end` time: 0.0111s). Check your callbacks.\n",
      "\n",
      "Epoch: 0, accuracy:0.4758,  bxe:0.6917,  loss:0.6917,  val_accuracy:0.4620,  val_bxe:0.6822,  val_loss:0.6822,  \n",
      "....................................................................................................\n",
      "Epoch: 100, accuracy:0.8115,  bxe:0.3855,  loss:0.3855,  val_accuracy:0.6280,  val_bxe:0.7810,  val_loss:0.7810,  \n",
      "....................................................................................................\n",
      "Epoch: 200, accuracy:0.8976,  bxe:0.2383,  loss:0.2383,  val_accuracy:0.6340,  val_bxe:1.0752,  val_loss:1.0752,  \n",
      "................."
     ]
    }
   ],
   "source": [
    "size_histories['Medium']  = compile_and_fit(medium_mod, \"sizes/Medium\")"
   ]
  },
  {
   "cell_type": "code",
   "execution_count": 25,
   "id": "hungry-truck",
   "metadata": {},
   "outputs": [
    {
     "name": "stdout",
     "output_type": "stream",
     "text": [
      "Model: \"sequential_3\"\n",
      "_________________________________________________________________\n",
      "Layer (type)                 Output Shape              Param #   \n",
      "=================================================================\n",
      "dense_9 (Dense)              (None, 512)               14848     \n",
      "_________________________________________________________________\n",
      "dense_10 (Dense)             (None, 512)               262656    \n",
      "_________________________________________________________________\n",
      "dense_11 (Dense)             (None, 512)               262656    \n",
      "_________________________________________________________________\n",
      "dense_12 (Dense)             (None, 512)               262656    \n",
      "_________________________________________________________________\n",
      "dense_13 (Dense)             (None, 1)                 513       \n",
      "=================================================================\n",
      "Total params: 803,329\n",
      "Trainable params: 803,329\n",
      "Non-trainable params: 0\n",
      "_________________________________________________________________\n",
      "WARNING:tensorflow:Callback method `on_train_batch_end` is slow compared to the batch time (batch time: 0.0102s vs `on_train_batch_end` time: 0.0120s). Check your callbacks.\n",
      "\n",
      "Epoch: 0, accuracy:0.4828,  bxe:0.6924,  loss:0.6924,  val_accuracy:0.4690,  val_bxe:0.6748,  val_loss:0.6748,  \n",
      "....................................................................................................\n",
      "Epoch: 100, accuracy:1.0000,  bxe:0.0000,  loss:0.0000,  val_accuracy:0.6220,  val_bxe:3.3689,  val_loss:3.3689,  \n",
      "....................................................................................................\n",
      "Epoch: 200, accuracy:1.0000,  bxe:0.0000,  loss:0.0000,  val_accuracy:0.6230,  val_bxe:3.8395,  val_loss:3.8395,  \n",
      "....."
     ]
    }
   ],
   "source": [
    "large_mod = Sequential([\n",
    "    Dense(512, activation='relu', input_shape=(FEATURES,)),\n",
    "    Dense(512, activation='relu'),\n",
    "    Dense(512, activation='relu'),\n",
    "    Dense(512, activation='relu'),\n",
    "    Dense(1)\n",
    "])\n",
    "size_histories['large'] = compile_and_fit(large_mod, \"sizes/large\")"
   ]
  },
  {
   "cell_type": "code",
   "execution_count": 26,
   "id": "therapeutic-yesterday",
   "metadata": {},
   "outputs": [
    {
     "data": {
      "text/plain": [
       "Text(0.5, 0, 'Epochs [Log Scale]')"
      ]
     },
     "execution_count": 26,
     "metadata": {},
     "output_type": "execute_result"
    },
    {
     "data": {
      "image/png": "[encoded data removed]",
      "text/plain": [
       "<Figure size 432x288 with 1 Axes>"
      ]
     },
     "metadata": {
      "needs_background": "light"
     },
     "output_type": "display_data"
    }
   ],
   "source": [
    "plotter.plot(size_histories)\n",
    "a = plt.xscale('log')\n",
    "plt.xlim([5, max(plt.xlim())])\n",
    "plt.ylim([0., 1])\n",
    "plt.xlabel(\"Epochs [Log Scale]\")"
   ]
  },
  {
   "cell_type": "markdown",
   "id": "checked-coalition",
   "metadata": {},
   "source": [
    "### View in TensorBoard"
   ]
  },
  {
   "cell_type": "code",
   "execution_count": 28,
   "id": "beneficial-norway",
   "metadata": {},
   "outputs": [],
   "source": [
    "#%load_ext tensorboard\n",
    "#%tensorboard --logdir {logdir}/sizes"
   ]
  },
  {
   "cell_type": "markdown",
   "id": "upset-scheduling",
   "metadata": {},
   "source": [
    "## Preventing Overfitting"
   ]
  },
  {
   "cell_type": "code",
   "execution_count": 29,
   "id": "similar-rocket",
   "metadata": {},
   "outputs": [
    {
     "data": {
      "text/plain": [
       "PosixPath('/var/folders/02/r9r5790n0wz7j9spprbscg100000gp/T/tmpufr0cdwu/tensorboard_logs/regularizers/Tiny')"
      ]
     },
     "execution_count": 29,
     "metadata": {},
     "output_type": "execute_result"
    }
   ],
   "source": [
    "# copy Tiny model as baseline\n",
    "shutil.rmtree(logdir/'regularizers/Tiny', ignore_errors=True)\n",
    "shutil.copytree(logdir/'sizes/Tiny', logdir/'regularizers/Tiny')"
   ]
  },
  {
   "cell_type": "code",
   "execution_count": 30,
   "id": "comprehensive-modern",
   "metadata": {},
   "outputs": [],
   "source": [
    "regularizer_histories = {'Tiny': size_histories['Tiny']}"
   ]
  },
  {
   "cell_type": "code",
   "execution_count": 31,
   "id": "senior-player",
   "metadata": {},
   "outputs": [
    {
     "name": "stdout",
     "output_type": "stream",
     "text": [
      "Model: \"sequential_4\"\n",
      "_________________________________________________________________\n",
      "Layer (type)                 Output Shape              Param #   \n",
      "=================================================================\n",
      "dense_14 (Dense)             (None, 512)               14848     \n",
      "_________________________________________________________________\n",
      "dense_15 (Dense)             (None, 512)               262656    \n",
      "_________________________________________________________________\n",
      "dense_16 (Dense)             (None, 512)               262656    \n",
      "_________________________________________________________________\n",
      "dense_17 (Dense)             (None, 512)               262656    \n",
      "_________________________________________________________________\n",
      "dense_18 (Dense)             (None, 1)                 513       \n",
      "=================================================================\n",
      "Total params: 803,329\n",
      "Trainable params: 803,329\n",
      "Non-trainable params: 0\n",
      "_________________________________________________________________\n",
      "WARNING:tensorflow:Callback method `on_train_batch_end` is slow compared to the batch time (batch time: 0.0117s vs `on_train_batch_end` time: 0.0120s). Check your callbacks.\n",
      "\n",
      "Epoch: 0, accuracy:0.5012,  bxe:0.8149,  loss:2.3343,  val_accuracy:0.5540,  val_bxe:0.6735,  val_loss:2.1168,  \n",
      "....................................................................................................\n",
      "Epoch: 100, accuracy:0.6620,  bxe:0.5940,  loss:0.6182,  val_accuracy:0.6430,  val_bxe:0.5832,  val_loss:0.6071,  \n",
      "....................................................................................................\n",
      "Epoch: 200, accuracy:0.6773,  bxe:0.5781,  loss:0.6021,  val_accuracy:0.6640,  val_bxe:0.5768,  val_loss:0.6007,  \n",
      "....................................................................................................\n",
      "Epoch: 300, accuracy:0.6874,  bxe:0.5675,  loss:0.5933,  val_accuracy:0.6700,  val_bxe:0.5865,  val_loss:0.6123,  \n",
      "....................................................................................................\n",
      "Epoch: 400, accuracy:0.6936,  bxe:0.5558,  loss:0.5838,  val_accuracy:0.6950,  val_bxe:0.5757,  val_loss:0.6037,  \n",
      "....................................................................................................\n",
      "Epoch: 500, accuracy:0.7033,  bxe:0.5509,  loss:0.5797,  val_accuracy:0.6710,  val_bxe:0.5944,  val_loss:0.6233,  \n",
      "....................................................................................................\n",
      "Epoch: 600, accuracy:0.7056,  bxe:0.5508,  loss:0.5804,  val_accuracy:0.6820,  val_bxe:0.5757,  val_loss:0.6055,  \n",
      "....................................................................................................\n",
      "Epoch: 700, accuracy:0.7135,  bxe:0.5382,  loss:0.5679,  val_accuracy:0.6840,  val_bxe:0.5815,  val_loss:0.6112,  \n",
      "......"
     ]
    }
   ],
   "source": [
    "LAMBDA = 0.001\n",
    "\n",
    "l2_mod = Sequential([\n",
    "    Dense(512, \n",
    "          activation='elu', \n",
    "          kernel_regularizer=regularizers.l2(LAMBDA),\n",
    "          input_shape=(FEATURES,)),\n",
    "    Dense(512, \n",
    "          activation='elu', \n",
    "          kernel_regularizer=regularizers.l2(LAMBDA)),\n",
    "    Dense(512, \n",
    "          activation='elu', \n",
    "          kernel_regularizer=regularizers.l2(LAMBDA)),\n",
    "    Dense(512, \n",
    "          activation='elu', \n",
    "          kernel_regularizer=regularizers.l2(LAMBDA)),\n",
    "    Dense(1)])\n",
    "\n",
    "regularizer_histories['l2'] = compile_and_fit(l2_mod, 'regularizers/l2')"
   ]
  },
  {
   "cell_type": "code",
   "execution_count": 32,
   "id": "absent-muslim",
   "metadata": {},
   "outputs": [
    {
     "data": {
      "text/plain": [
       "(0.5, 0.7)"
      ]
     },
     "execution_count": 32,
     "metadata": {},
     "output_type": "execute_result"
    },
    {
     "data": {
      "image/png": "[encoded data removed]",
      "text/plain": [
       "<Figure size 432x288 with 1 Axes>"
      ]
     },
     "metadata": {
      "needs_background": "light"
     },
     "output_type": "display_data"
    }
   ],
   "source": [
    "plotter.plot(regularizer_histories)\n",
    "plt.ylim([0.5, 0.7])"
   ]
  },
  {
   "cell_type": "code",
   "execution_count": null,
   "id": "british-horror",
   "metadata": {},
   "outputs": [],
   "source": []
  }
 ],
 "metadata": {
  "kernelspec": {
   "display_name": "Python 3",
   "language": "python",
   "name": "python3"
  },
  "language_info": {
   "codemirror_mode": {
    "name": "ipython",
    "version": 3
   },
   "file_extension": ".py",
   "mimetype": "text/x-python",
   "name": "python",
   "nbconvert_exporter": "python",
   "pygments_lexer": "ipython3",
   "version": "3.8.8"
  }
 },
 "nbformat": 4,
 "nbformat_minor": 5
}
