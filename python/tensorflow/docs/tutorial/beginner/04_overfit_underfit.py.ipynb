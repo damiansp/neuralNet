{
 "cells": [
  {
   "cell_type": "code",
   "execution_count": 1,
   "id": "resident-migration",
   "metadata": {},
   "outputs": [],
   "source": [
    "#!pip install git+https://github.com/tensorflow/docs"
   ]
  },
  {
   "cell_type": "code",
   "execution_count": 25,
   "id": "russian-richards",
   "metadata": {},
   "outputs": [
    {
     "data": {
      "text/plain": [
       "'2.4.0'"
      ]
     },
     "execution_count": 25,
     "metadata": {},
     "output_type": "execute_result"
    }
   ],
   "source": [
    "import pathlib\n",
    "import shutil\n",
    "import tempfile\n",
    "\n",
    "from   IPython import display\n",
    "from   matplotlib import pyplot as plt\n",
    "import numpy as np\n",
    "import tensorflow as tf\n",
    "from   tensorflow.keras import layers, regularizers, Sequential\n",
    "from   tensorflow.keras.callbacks import EarlyStopping, TensorBoard\n",
    "from   tensorflow.keras.layers import Dense\n",
    "from   tensorflow.keras.losses import BinaryCrossentropy\n",
    "from   tensorflow.keras.optimizers import Adam, schedules\n",
    "import tensorflow_docs as tfdocs\n",
    "from   tensorflow_docs import modeling, plots\n",
    "\n",
    "tf.__version__"
   ]
  },
  {
   "cell_type": "code",
   "execution_count": 3,
   "id": "shaped-ecuador",
   "metadata": {},
   "outputs": [],
   "source": [
    "logdir = pathlib.Path(tempfile.mkdtemp())/'tensorboard_logs'\n",
    "shutil.rmtree(logdir, ignore_errors=True)"
   ]
  },
  {
   "cell_type": "code",
   "execution_count": 4,
   "id": "improving-native",
   "metadata": {},
   "outputs": [],
   "source": [
    "gz = tf.keras.utils.get_file(\n",
    "    'HIGGS.csv.gz', \n",
    "    'http://mlphysics.ics.uci.edu/data/higgs/HIGGS.csv.gz')"
   ]
  },
  {
   "cell_type": "code",
   "execution_count": 5,
   "id": "acquired-complexity",
   "metadata": {},
   "outputs": [],
   "source": [
    "FEATURES = 28"
   ]
  },
  {
   "cell_type": "code",
   "execution_count": 6,
   "id": "expanded-giving",
   "metadata": {},
   "outputs": [],
   "source": [
    "ds = tf.data.experimental.CsvDataset(gz, [float(), ] * (FEATURES + 1), \n",
    "                                     compression_type='GZIP' )"
   ]
  },
  {
   "cell_type": "code",
   "execution_count": 7,
   "id": "rental-vintage",
   "metadata": {},
   "outputs": [],
   "source": [
    "def pack_row(*row):\n",
    "    label = row[0]\n",
    "    features = tf.stack(row[1:], 1)\n",
    "    return features, label"
   ]
  },
  {
   "cell_type": "code",
   "execution_count": 8,
   "id": "white-updating",
   "metadata": {},
   "outputs": [],
   "source": [
    "packed_ds = ds.batch(10_000).map(pack_row).unbatch()"
   ]
  },
  {
   "cell_type": "code",
   "execution_count": 9,
   "id": "similar-wesley",
   "metadata": {},
   "outputs": [
    {
     "name": "stdout",
     "output_type": "stream",
     "text": [
      "tf.Tensor(\n",
      "[ 0.8692932  -0.6350818   0.22569026  0.32747006 -0.6899932   0.75420225\n",
      " -0.24857314 -1.0920639   0.          1.3749921  -0.6536742   0.9303491\n",
      "  1.1074361   1.1389043  -1.5781983  -1.0469854   0.          0.65792954\n",
      " -0.01045457 -0.04576717  3.1019614   1.35376     0.9795631   0.97807616\n",
      "  0.92000484  0.72165745  0.98875093  0.87667835], shape=(28,), dtype=float32)\n"
     ]
    },
    {
     "data": {
      "image/png": "[encoded data removed]",
      "text/plain": [
       "<Figure size 432x288 with 1 Axes>"
      ]
     },
     "metadata": {
      "needs_background": "light"
     },
     "output_type": "display_data"
    }
   ],
   "source": [
    "for features, label in packed_ds.batch(1000).take(1):\n",
    "    print(features[0])\n",
    "    plt.hist(features.numpy().flatten(), bins=101)"
   ]
  },
  {
   "cell_type": "code",
   "execution_count": 10,
   "id": "fabulous-favor",
   "metadata": {},
   "outputs": [],
   "source": [
    "N_VALID = 1000\n",
    "N_TRAIN = 10_000\n",
    "BUFFER = 10_000\n",
    "BATCH = 500\n",
    "STEPS_PER_EPOCH = N_TRAIN // BATCH"
   ]
  },
  {
   "cell_type": "code",
   "execution_count": 11,
   "id": "subtle-anime",
   "metadata": {},
   "outputs": [
    {
     "data": {
      "text/plain": [
       "<CacheDataset shapes: ((28,), ()), types: (tf.float32, tf.float32)>"
      ]
     },
     "execution_count": 11,
     "metadata": {},
     "output_type": "execute_result"
    }
   ],
   "source": [
    "valid_ds = packed_ds.take(N_VALID).cache()\n",
    "train_ds = packed_ds.skip(N_VALID).take(N_TRAIN).cache()\n",
    "train_ds"
   ]
  },
  {
   "cell_type": "code",
   "execution_count": 12,
   "id": "unable-cleaner",
   "metadata": {},
   "outputs": [],
   "source": [
    "valid_ds = valid_ds.batch(BATCH)\n",
    "train_ds = train_ds.shuffle(BUFFER).repeat().batch(BATCH)"
   ]
  },
  {
   "cell_type": "markdown",
   "id": "limited-booking",
   "metadata": {},
   "source": [
    "## Overfit Demo"
   ]
  },
  {
   "cell_type": "code",
   "execution_count": 15,
   "id": "vocal-flashing",
   "metadata": {},
   "outputs": [],
   "source": [
    "lr_schedule = schedules.InverseTimeDecay(\n",
    "    0.001,\n",
    "    decay_steps=STEPS_PER_EPOCH * 1000,\n",
    "    decay_rate=1,\n",
    "    staircase=False)"
   ]
  },
  {
   "cell_type": "code",
   "execution_count": 16,
   "id": "governmental-malpractice",
   "metadata": {},
   "outputs": [],
   "source": [
    "def get_optimizer():\n",
    "    return Adam(lr_schedule)"
   ]
  },
  {
   "cell_type": "code",
   "execution_count": 18,
   "id": "ready-language",
   "metadata": {},
   "outputs": [
    {
     "data": {
      "image/png": "[encoded data removed]",
      "text/plain": [
       "<Figure size 576x432 with 1 Axes>"
      ]
     },
     "metadata": {
      "needs_background": "light"
     },
     "output_type": "display_data"
    }
   ],
   "source": [
    "step = np.linspace(0, 100_000)\n",
    "lr = lr_schedule(step)\n",
    "plt.figure(figsize=(8, 6))\n",
    "plt.plot(step / STEPS_PER_EPOCH, lr)\n",
    "plt.ylim([0, max(plt.ylim())])\n",
    "plt.xlabel('Epoch')\n",
    "plt.ylabel('Learning Rate');"
   ]
  },
  {
   "cell_type": "code",
   "execution_count": 35,
   "id": "considerable-wednesday",
   "metadata": {},
   "outputs": [],
   "source": [
    "def get_callbacks(name):\n",
    "    return [\n",
    "        tfdocs.modeling.EpochDots(),\n",
    "        EarlyStopping(monitor='val_bxe', patience=200),\n",
    "        TensorBoard(logdir/name)]"
   ]
  },
  {
   "cell_type": "code",
   "execution_count": 36,
   "id": "divided-coupon",
   "metadata": {},
   "outputs": [],
   "source": [
    "def compile_and_fit(mod, name, optimizer=None, max_epochs=10_000):\n",
    "    optimizer = get_optimizer() if optimizer is None else optimizer\n",
    "    mod.compile(optimizer=optimizer,\n",
    "               loss=BinaryCrossentropy(from_logits=True),\n",
    "               metrics=[BinaryCrossentropy(from_logits=True, name='bxe'),\n",
    "                        'accuracy'])\n",
    "    mod.summary()\n",
    "    hist = mod.fit(train_ds,\n",
    "                   steps_per_epoch=STEPS_PER_EPOCH,\n",
    "                   epochs=max_epochs,\n",
    "                   validation_data=valid_ds,\n",
    "                   callbacks=get_callbacks(name),\n",
    "                   verbose=0)\n",
    "    return hist"
   ]
  },
  {
   "cell_type": "code",
   "execution_count": 37,
   "id": "emerging-relationship",
   "metadata": {},
   "outputs": [],
   "source": [
    "tiny_mod = Sequential([\n",
    "    Dense(16, activation='relu', input_shape=(FEATURES,)),\n",
    "    Dense(1)])"
   ]
  },
  {
   "cell_type": "code",
   "execution_count": 38,
   "id": "brave-bunch",
   "metadata": {},
   "outputs": [
    {
     "name": "stdout",
     "output_type": "stream",
     "text": [
      "Model: \"sequential_3\"\n",
      "_________________________________________________________________\n",
      "Layer (type)                 Output Shape              Param #   \n",
      "=================================================================\n",
      "dense_6 (Dense)              (None, 16)                464       \n",
      "_________________________________________________________________\n",
      "dense_7 (Dense)              (None, 1)                 17        \n",
      "=================================================================\n",
      "Total params: 481\n",
      "Trainable params: 481\n",
      "Non-trainable params: 0\n",
      "_________________________________________________________________\n",
      "WARNING:tensorflow:Callback method `on_train_batch_end` is slow compared to the batch time (batch time: 0.0013s vs `on_train_batch_end` time: 0.0090s). Check your callbacks.\n",
      "\n",
      "Epoch: 0, accuracy:0.4753,  bxe:0.9218,  loss:0.9218,  val_accuracy:0.4620,  val_bxe:0.8397,  val_loss:0.8397,  \n",
      "....................................................................................................\n",
      "Epoch: 100, accuracy:0.6105,  bxe:0.6173,  loss:0.6173,  val_accuracy:0.5890,  val_bxe:0.6284,  val_loss:0.6284,  \n",
      "....................................................................................................\n",
      "Epoch: 200, accuracy:0.6456,  bxe:0.6006,  loss:0.6006,  val_accuracy:0.6430,  val_bxe:0.6088,  val_loss:0.6088,  \n",
      "....................................................................................................\n",
      "Epoch: 300, accuracy:0.6659,  bxe:0.5882,  loss:0.5882,  val_accuracy:0.6480,  val_bxe:0.5981,  val_loss:0.5981,  \n",
      "....................................................................................................\n",
      "Epoch: 400, accuracy:0.6730,  bxe:0.5826,  loss:0.5826,  val_accuracy:0.6600,  val_bxe:0.5943,  val_loss:0.5943,  \n",
      "....................................................................................................\n",
      "Epoch: 500, accuracy:0.6783,  bxe:0.5788,  loss:0.5788,  val_accuracy:0.6490,  val_bxe:0.5928,  val_loss:0.5928,  \n",
      "....................................................................................................\n",
      "Epoch: 600, accuracy:0.6788,  bxe:0.5757,  loss:0.5757,  val_accuracy:0.6620,  val_bxe:0.5893,  val_loss:0.5893,  \n",
      "....................................................................................................\n",
      "Epoch: 700, accuracy:0.6803,  bxe:0.5730,  loss:0.5730,  val_accuracy:0.6650,  val_bxe:0.5885,  val_loss:0.5885,  \n",
      "....................................................................................................\n",
      "Epoch: 800, accuracy:0.6904,  bxe:0.5702,  loss:0.5702,  val_accuracy:0.6610,  val_bxe:0.5898,  val_loss:0.5898,  \n",
      "....................................................................................................\n",
      "Epoch: 900, accuracy:0.6887,  bxe:0.5678,  loss:0.5678,  val_accuracy:0.6790,  val_bxe:0.5863,  val_loss:0.5863,  \n",
      "....................................................................................................\n",
      "Epoch: 1000, accuracy:0.6882,  bxe:0.5660,  loss:0.5660,  val_accuracy:0.6690,  val_bxe:0.5867,  val_loss:0.5867,  \n",
      "....................................................................................................\n",
      "Epoch: 1100, accuracy:0.6896,  bxe:0.5646,  loss:0.5646,  val_accuracy:0.6660,  val_bxe:0.5876,  val_loss:0.5876,  \n",
      "....................................................................................................\n",
      "Epoch: 1200, accuracy:0.6913,  bxe:0.5620,  loss:0.5620,  val_accuracy:0.6710,  val_bxe:0.5875,  val_loss:0.5875,  \n",
      "....................................................................................................\n",
      "Epoch: 1300, accuracy:0.6909,  bxe:0.5600,  loss:0.5600,  val_accuracy:0.6740,  val_bxe:0.5867,  val_loss:0.5867,  \n",
      "..............................."
     ]
    }
   ],
   "source": [
    "size_histories = {'Tiny': compile_and_fit(tiny_mod, 'sizes/Tiny')}"
   ]
  },
  {
   "cell_type": "code",
   "execution_count": 40,
   "id": "atmospheric-color",
   "metadata": {},
   "outputs": [
    {
     "data": {
      "text/plain": [
       "(0.5, 0.7)"
      ]
     },
     "execution_count": 40,
     "metadata": {},
     "output_type": "execute_result"
    },
    {
     "data": {
      "image/png": "[encoded data removed]",
      "text/plain": [
       "<Figure size 432x288 with 1 Axes>"
      ]
     },
     "metadata": {
      "needs_background": "light"
     },
     "output_type": "display_data"
    }
   ],
   "source": [
    "plotter = tfdocs.plots.HistoryPlotter(metric='bxe', smoothing_std=10)\n",
    "plotter.plot(size_histories)\n",
    "plt.ylim([0.5, 0.7])"
   ]
  },
  {
   "cell_type": "code",
   "execution_count": 41,
   "id": "associate-blocking",
   "metadata": {},
   "outputs": [],
   "source": [
    "small_mod = Sequential([\n",
    "    Dense(16, activation='relu', input_shape=(FEATURES,)),\n",
    "    Dense(16, activation='relu'),\n",
    "    Dense(1)\n",
    "])"
   ]
  },
  {
   "cell_type": "code",
   "execution_count": 43,
   "id": "interstate-valentine",
   "metadata": {},
   "outputs": [
    {
     "name": "stdout",
     "output_type": "stream",
     "text": [
      "Model: \"sequential_4\"\n",
      "_________________________________________________________________\n",
      "Layer (type)                 Output Shape              Param #   \n",
      "=================================================================\n",
      "dense_8 (Dense)              (None, 16)                464       \n",
      "_________________________________________________________________\n",
      "dense_9 (Dense)              (None, 16)                272       \n",
      "_________________________________________________________________\n",
      "dense_10 (Dense)             (None, 1)                 17        \n",
      "=================================================================\n",
      "Total params: 753\n",
      "Trainable params: 753\n",
      "Non-trainable params: 0\n",
      "_________________________________________________________________\n",
      "WARNING:tensorflow:Callback method `on_train_batch_end` is slow compared to the batch time (batch time: 0.0013s vs `on_train_batch_end` time: 0.0096s). Check your callbacks.\n",
      "\n",
      "Epoch: 0, accuracy:0.4890,  bxe:0.7212,  loss:0.7212,  val_accuracy:0.4630,  val_bxe:0.7157,  val_loss:0.7157,  \n",
      "....................................................................................................\n",
      "Epoch: 100, accuracy:0.6389,  bxe:0.6032,  loss:0.6032,  val_accuracy:0.5880,  val_bxe:0.6276,  val_loss:0.6276,  \n",
      "....................................................................................................\n",
      "Epoch: 200, accuracy:0.6772,  bxe:0.5767,  loss:0.5767,  val_accuracy:0.6420,  val_bxe:0.6172,  val_loss:0.6172,  \n",
      "....................................................................................................\n",
      "Epoch: 300, accuracy:0.6906,  bxe:0.5638,  loss:0.5638,  val_accuracy:0.6580,  val_bxe:0.6164,  val_loss:0.6164,  \n",
      "....................................................................................................\n",
      "Epoch: 400, accuracy:0.6935,  bxe:0.5566,  loss:0.5566,  val_accuracy:0.6590,  val_bxe:0.6151,  val_loss:0.6151,  \n",
      "....................................................................................................\n",
      "Epoch: 500, accuracy:0.6974,  bxe:0.5513,  loss:0.5513,  val_accuracy:0.6560,  val_bxe:0.6149,  val_loss:0.6149,  \n",
      "....................................................................................................\n",
      "Epoch: 600, accuracy:0.7014,  bxe:0.5486,  loss:0.5486,  val_accuracy:0.6560,  val_bxe:0.6173,  val_loss:0.6173,  \n",
      "..............................................................................................."
     ]
    }
   ],
   "source": [
    "size_histories['Small'] = compile_and_fit(small_mod, 'sizes/Small')"
   ]
  },
  {
   "cell_type": "code",
   "execution_count": 45,
   "id": "royal-wheat",
   "metadata": {},
   "outputs": [],
   "source": [
    "medium_mod = Sequential([\n",
    "    Dense(64, activation='relu', input_shape=(FEATURES,)),\n",
    "    Dense(64, activation='relu'),\n",
    "    Dense(64, activation='relu'),\n",
    "    Dense(1)\n",
    "])"
   ]
  },
  {
   "cell_type": "code",
   "execution_count": 46,
   "id": "latest-cannon",
   "metadata": {},
   "outputs": [
    {
     "name": "stdout",
     "output_type": "stream",
     "text": [
      "Model: \"sequential_5\"\n",
      "_________________________________________________________________\n",
      "Layer (type)                 Output Shape              Param #   \n",
      "=================================================================\n",
      "dense_11 (Dense)             (None, 64)                1856      \n",
      "_________________________________________________________________\n",
      "dense_12 (Dense)             (None, 64)                4160      \n",
      "_________________________________________________________________\n",
      "dense_13 (Dense)             (None, 64)                4160      \n",
      "_________________________________________________________________\n",
      "dense_14 (Dense)             (None, 1)                 65        \n",
      "=================================================================\n",
      "Total params: 10,241\n",
      "Trainable params: 10,241\n",
      "Non-trainable params: 0\n",
      "_________________________________________________________________\n",
      "WARNING:tensorflow:Callback method `on_train_batch_end` is slow compared to the batch time (batch time: 0.0017s vs `on_train_batch_end` time: 0.0112s). Check your callbacks.\n",
      "\n",
      "Epoch: 0, accuracy:0.4749,  bxe:0.6975,  loss:0.6975,  val_accuracy:0.4600,  val_bxe:0.6859,  val_loss:0.6859,  \n",
      "....................................................................................................\n",
      "Epoch: 100, accuracy:0.8443,  bxe:0.3403,  loss:0.3403,  val_accuracy:0.5880,  val_bxe:0.8872,  val_loss:0.8872,  \n",
      "....................................................................................................\n",
      "Epoch: 200, accuracy:0.9183,  bxe:0.2018,  loss:0.2018,  val_accuracy:0.5880,  val_bxe:1.3618,  val_loss:1.3618,  \n",
      "..............."
     ]
    }
   ],
   "source": [
    "size_histories['Medium']  = compile_and_fit(medium_mod, \"sizes/Medium\")"
   ]
  },
  {
   "cell_type": "code",
   "execution_count": 47,
   "id": "hungry-truck",
   "metadata": {},
   "outputs": [
    {
     "name": "stdout",
     "output_type": "stream",
     "text": [
      "Model: \"sequential_6\"\n",
      "_________________________________________________________________\n",
      "Layer (type)                 Output Shape              Param #   \n",
      "=================================================================\n",
      "dense_15 (Dense)             (None, 512)               14848     \n",
      "_________________________________________________________________\n",
      "dense_16 (Dense)             (None, 512)               262656    \n",
      "_________________________________________________________________\n",
      "dense_17 (Dense)             (None, 512)               262656    \n",
      "_________________________________________________________________\n",
      "dense_18 (Dense)             (None, 512)               262656    \n",
      "_________________________________________________________________\n",
      "dense_19 (Dense)             (None, 1)                 513       \n",
      "=================================================================\n",
      "Total params: 803,329\n",
      "Trainable params: 803,329\n",
      "Non-trainable params: 0\n",
      "_________________________________________________________________\n",
      "WARNING:tensorflow:Callback method `on_train_batch_end` is slow compared to the batch time (batch time: 0.0109s vs `on_train_batch_end` time: 0.0123s). Check your callbacks.\n",
      "\n",
      "Epoch: 0, accuracy:0.4798,  bxe:0.6949,  loss:0.6949,  val_accuracy:0.4620,  val_bxe:0.6768,  val_loss:0.6768,  \n",
      "....................................................................................................\n",
      "Epoch: 100, accuracy:1.0000,  bxe:0.0000,  loss:0.0000,  val_accuracy:0.6260,  val_bxe:3.4664,  val_loss:3.4664,  \n",
      "....................................................................................................\n",
      "Epoch: 200, accuracy:1.0000,  bxe:0.0000,  loss:0.0000,  val_accuracy:0.6280,  val_bxe:3.8491,  val_loss:3.8491,  \n",
      "........"
     ]
    }
   ],
   "source": [
    "large_mod = Sequential([\n",
    "    Dense(512, activation='relu', input_shape=(FEATURES,)),\n",
    "    Dense(512, activation='relu'),\n",
    "    Dense(512, activation='relu'),\n",
    "    Dense(512, activation='relu'),\n",
    "    Dense(1)\n",
    "])\n",
    "size_histories['large'] = compile_and_fit(large_mod, \"sizes/large\")"
   ]
  },
  {
   "cell_type": "code",
   "execution_count": 53,
   "id": "therapeutic-yesterday",
   "metadata": {},
   "outputs": [
    {
     "data": {
      "text/plain": [
       "Text(0.5, 0, 'Epochs [Log Scale]')"
      ]
     },
     "execution_count": 53,
     "metadata": {},
     "output_type": "execute_result"
    },
    {
     "data": {
      "image/png": "[encoded data removed]",
      "text/plain": [
       "<Figure size 432x288 with 1 Axes>"
      ]
     },
     "metadata": {
      "needs_background": "light"
     },
     "output_type": "display_data"
    }
   ],
   "source": [
    "plotter.plot(size_histories)\n",
    "a = plt.xscale('log')\n",
    "plt.xlim([5, max(plt.xlim())])\n",
    "plt.ylim([0., 1])\n",
    "plt.xlabel(\"Epochs [Log Scale]\")"
   ]
  },
  {
   "cell_type": "code",
   "execution_count": null,
   "id": "impossible-concentrate",
   "metadata": {},
   "outputs": [],
   "source": []
  }
 ],
 "metadata": {
  "kernelspec": {
   "display_name": "Python 3",
   "language": "python",
   "name": "python3"
  },
  "language_info": {
   "codemirror_mode": {
    "name": "ipython",
    "version": 3
   },
   "file_extension": ".py",
   "mimetype": "text/x-python",
   "name": "python",
   "nbconvert_exporter": "python",
   "pygments_lexer": "ipython3",
   "version": "3.8.8"
  }
 },
 "nbformat": 4,
 "nbformat_minor": 5
}
