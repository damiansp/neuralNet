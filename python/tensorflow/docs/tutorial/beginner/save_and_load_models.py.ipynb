{
 "cells": [
  {
   "cell_type": "code",
   "execution_count": 3,
   "id": "aerial-flooring",
   "metadata": {},
   "outputs": [
    {
     "data": {
      "text/plain": [
       "'2.4.0'"
      ]
     },
     "execution_count": 3,
     "metadata": {},
     "output_type": "execute_result"
    }
   ],
   "source": [
    "import os\n",
    "\n",
    "import tensorflow as tf\n",
    "from tensorflow import keras\n",
    "from tensorflow.keras.models import Sequential\n",
    "from tensorflow.keras.layers import Dense, Dropout\n",
    "\n",
    "tf.version.VERSION"
   ]
  },
  {
   "cell_type": "code",
   "execution_count": 2,
   "id": "destroyed-breath",
   "metadata": {},
   "outputs": [],
   "source": [
    "(X_train, y_train), (X_test, y_test) = keras.datasets.mnist.load_data()\n",
    "\n",
    "y_train = y_train[:1000]\n",
    "y_test = y_test[:1000]\n",
    "X_train = X_train[:1000].reshape(-1, 28*28) / 255.\n",
    "X_test = X_test[:1000].reshape(-1, 28*28) / 255."
   ]
  },
  {
   "cell_type": "code",
   "execution_count": 4,
   "id": "silent-treatment",
   "metadata": {},
   "outputs": [],
   "source": [
    "def create_mod():\n",
    "    mod = Sequential([Dense(512, activation='relu', input_shape=(784,)),\n",
    "                      Dropout(0.2),\n",
    "                      Dense(10)])\n",
    "    mod.compile(\n",
    "        optimizer='adam',\n",
    "        loss=tf.losses.SparseCategoricalCrossentropy(from_logits=True),\n",
    "        metrics=[tf.metrics.SparseCategoricalAccuracy()])\n",
    "    return mod"
   ]
  },
  {
   "cell_type": "code",
   "execution_count": 5,
   "id": "arranged-vampire",
   "metadata": {},
   "outputs": [
    {
     "name": "stdout",
     "output_type": "stream",
     "text": [
      "Model: \"sequential\"\n",
      "_________________________________________________________________\n",
      "Layer (type)                 Output Shape              Param #   \n",
      "=================================================================\n",
      "dense (Dense)                (None, 512)               401920    \n",
      "_________________________________________________________________\n",
      "dropout (Dropout)            (None, 512)               0         \n",
      "_________________________________________________________________\n",
      "dense_1 (Dense)              (None, 10)                5130      \n",
      "=================================================================\n",
      "Total params: 407,050\n",
      "Trainable params: 407,050\n",
      "Non-trainable params: 0\n",
      "_________________________________________________________________\n"
     ]
    }
   ],
   "source": [
    "mod = create_mod()\n",
    "mod.summary()"
   ]
  },
  {
   "cell_type": "markdown",
   "id": "turkish-prefix",
   "metadata": {},
   "source": [
    "### Save checkpoints during training"
   ]
  },
  {
   "cell_type": "code",
   "execution_count": 6,
   "id": "oriented-muslim",
   "metadata": {},
   "outputs": [
    {
     "name": "stdout",
     "output_type": "stream",
     "text": [
      "Epoch 1/10\n",
      "32/32 [==============================] - 1s 21ms/step - loss: 1.5487 - sparse_categorical_accuracy: 0.5292 - val_loss: 0.6819 - val_sparse_categorical_accuracy: 0.8000\n",
      "\n",
      "Epoch 00001: saving model to training_1/cp.ckpt\n",
      "Epoch 2/10\n",
      "32/32 [==============================] - 0s 4ms/step - loss: 0.4047 - sparse_categorical_accuracy: 0.8917 - val_loss: 0.4997 - val_sparse_categorical_accuracy: 0.8450\n",
      "\n",
      "Epoch 00002: saving model to training_1/cp.ckpt\n",
      "Epoch 3/10\n",
      "32/32 [==============================] - 0s 4ms/step - loss: 0.3252 - sparse_categorical_accuracy: 0.9156 - val_loss: 0.4511 - val_sparse_categorical_accuracy: 0.8570\n",
      "\n",
      "Epoch 00003: saving model to training_1/cp.ckpt\n",
      "Epoch 4/10\n",
      "32/32 [==============================] - 0s 4ms/step - loss: 0.2030 - sparse_categorical_accuracy: 0.9507 - val_loss: 0.4206 - val_sparse_categorical_accuracy: 0.8630\n",
      "\n",
      "Epoch 00004: saving model to training_1/cp.ckpt\n",
      "Epoch 5/10\n",
      "32/32 [==============================] - 0s 4ms/step - loss: 0.1401 - sparse_categorical_accuracy: 0.9636 - val_loss: 0.4531 - val_sparse_categorical_accuracy: 0.8480\n",
      "\n",
      "Epoch 00005: saving model to training_1/cp.ckpt\n",
      "Epoch 6/10\n",
      "32/32 [==============================] - 0s 4ms/step - loss: 0.1089 - sparse_categorical_accuracy: 0.9838 - val_loss: 0.4170 - val_sparse_categorical_accuracy: 0.8710\n",
      "\n",
      "Epoch 00006: saving model to training_1/cp.ckpt\n",
      "Epoch 7/10\n",
      "32/32 [==============================] - 0s 4ms/step - loss: 0.0885 - sparse_categorical_accuracy: 0.9875 - val_loss: 0.4177 - val_sparse_categorical_accuracy: 0.8650\n",
      "\n",
      "Epoch 00007: saving model to training_1/cp.ckpt\n",
      "Epoch 8/10\n",
      "32/32 [==============================] - 0s 4ms/step - loss: 0.0711 - sparse_categorical_accuracy: 0.9957 - val_loss: 0.4181 - val_sparse_categorical_accuracy: 0.8610\n",
      "\n",
      "Epoch 00008: saving model to training_1/cp.ckpt\n",
      "Epoch 9/10\n",
      "32/32 [==============================] - 0s 4ms/step - loss: 0.0496 - sparse_categorical_accuracy: 0.9988 - val_loss: 0.4034 - val_sparse_categorical_accuracy: 0.8680\n",
      "\n",
      "Epoch 00009: saving model to training_1/cp.ckpt\n",
      "Epoch 10/10\n",
      "32/32 [==============================] - 0s 4ms/step - loss: 0.0365 - sparse_categorical_accuracy: 0.9991 - val_loss: 0.4284 - val_sparse_categorical_accuracy: 0.8630\n",
      "\n",
      "Epoch 00010: saving model to training_1/cp.ckpt\n"
     ]
    },
    {
     "data": {
      "text/plain": [
       "<tensorflow.python.keras.callbacks.History at 0x7f872c182130>"
      ]
     },
     "execution_count": 6,
     "metadata": {},
     "output_type": "execute_result"
    }
   ],
   "source": [
    "checkpoint_path = 'training_1/cp.ckpt'\n",
    "checkpoint_dir = os.path.dirname(checkpoint_path)\n",
    "\n",
    "cp_callback = keras.callbacks.ModelCheckpoint(\n",
    "    filepath=checkpoint_path, save_weights_only=True, verbose=1)\n",
    "mod.fit(X_train,\n",
    "        y_train,\n",
    "        epochs=10,\n",
    "        validation_data=(X_test, y_test),\n",
    "        callbacks=[cp_callback])"
   ]
  },
  {
   "cell_type": "code",
   "execution_count": 7,
   "id": "approved-baker",
   "metadata": {},
   "outputs": [
    {
     "data": {
      "text/plain": [
       "['cp.ckpt.data-00000-of-00001', 'checkpoint', 'cp.ckpt.index']"
      ]
     },
     "execution_count": 7,
     "metadata": {},
     "output_type": "execute_result"
    }
   ],
   "source": [
    "os.listdir(checkpoint_dir)"
   ]
  },
  {
   "cell_type": "code",
   "execution_count": 9,
   "id": "olympic-suspension",
   "metadata": {},
   "outputs": [
    {
     "name": "stdout",
     "output_type": "stream",
     "text": [
      "32/32 - 0s - loss: 2.3442 - sparse_categorical_accuracy: 0.1360\n",
      "Untrained: Acc: 13.60\n"
     ]
    }
   ],
   "source": [
    "mod = create_mod()\n",
    "loss, acc = mod.evaluate(X_test, y_test, verbose=2)\n",
    "print(f'Untrained: Acc: {100 * acc:5.2f}')"
   ]
  },
  {
   "cell_type": "code",
   "execution_count": 10,
   "id": "northern-alfred",
   "metadata": {},
   "outputs": [
    {
     "name": "stdout",
     "output_type": "stream",
     "text": [
      "32/32 - 0s - loss: 0.4284 - sparse_categorical_accuracy: 0.8630\n",
      "Loaded weights: Acc: 86.30\n"
     ]
    }
   ],
   "source": [
    "mod.load_weights(checkpoint_path)\n",
    "loss, acc = mod.evaluate(X_test, y_test, verbose=2)\n",
    "print(f'Loaded weights: Acc: {100 * acc:5.2f}')"
   ]
  },
  {
   "cell_type": "markdown",
   "id": "otherwise-accommodation",
   "metadata": {},
   "source": [
    "### Checkpoint Callback Options"
   ]
  },
  {
   "cell_type": "code",
   "execution_count": null,
   "id": "homeless-albania",
   "metadata": {},
   "outputs": [],
   "source": []
  }
 ],
 "metadata": {
  "kernelspec": {
   "display_name": "Python 3",
   "language": "python",
   "name": "python3"
  },
  "language_info": {
   "codemirror_mode": {
    "name": "ipython",
    "version": 3
   },
   "file_extension": ".py",
   "mimetype": "text/x-python",
   "name": "python",
   "nbconvert_exporter": "python",
   "pygments_lexer": "ipython3",
   "version": "3.8.8"
  }
 },
 "nbformat": 4,
 "nbformat_minor": 5
}
