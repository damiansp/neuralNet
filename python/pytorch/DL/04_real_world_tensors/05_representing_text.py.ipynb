{
 "cells": [
  {
   "cell_type": "code",
   "execution_count": 10,
   "id": "040c3be4",
   "metadata": {},
   "outputs": [],
   "source": [
    "import torch"
   ]
  },
  {
   "cell_type": "code",
   "execution_count": 7,
   "id": "c4b1b5e2",
   "metadata": {},
   "outputs": [],
   "source": [
    "DATA = '../../../../data'"
   ]
  },
  {
   "cell_type": "code",
   "execution_count": 8,
   "id": "24cd1c5b",
   "metadata": {},
   "outputs": [],
   "source": [
    "with open(f'{DATA}/p1ch4/jane-austen/1342-0.txt', encoding='utf8') as f:\n",
    "    text = f.read()"
   ]
  },
  {
   "cell_type": "code",
   "execution_count": 32,
   "id": "60ecfdbf",
   "metadata": {},
   "outputs": [
    {
     "data": {
      "text/plain": [
       "'“Not at all,” was her answer; “but depend upon it, he means to be severe'"
      ]
     },
     "execution_count": 32,
     "metadata": {},
     "output_type": "execute_result"
    }
   ],
   "source": [
    "lines = text.split('\\n')\n",
    "line = lines[1975]\n",
    "line"
   ]
  },
  {
   "cell_type": "code",
   "execution_count": 33,
   "id": "ac30a611",
   "metadata": {},
   "outputs": [
    {
     "data": {
      "text/plain": [
       "torch.Size([72, 128])"
      ]
     },
     "execution_count": 33,
     "metadata": {},
     "output_type": "execute_result"
    }
   ],
   "source": [
    "letter_t = torch.zeros(len(line), 128)\n",
    "letter_t.shape"
   ]
  },
  {
   "cell_type": "code",
   "execution_count": 34,
   "id": "9a154728",
   "metadata": {},
   "outputs": [],
   "source": [
    "for i, letter in enumerate(line.lower().strip()):\n",
    "    letter_index = ord(letter) if ord(letter) < 128 else 0\n",
    "    letter_t[i][letter_index] = 1"
   ]
  },
  {
   "cell_type": "code",
   "execution_count": 35,
   "id": "834cad3d",
   "metadata": {},
   "outputs": [
    {
     "data": {
      "text/plain": [
       "tensor([[1., 0., 0.,  ..., 0., 0., 0.],\n",
       "        [0., 0., 0.,  ..., 0., 0., 0.],\n",
       "        [0., 0., 0.,  ..., 0., 0., 0.],\n",
       "        ...,\n",
       "        [0., 0., 0.,  ..., 0., 0., 0.],\n",
       "        [0., 0., 0.,  ..., 0., 0., 0.],\n",
       "        [0., 0., 0.,  ..., 0., 0., 0.]])"
      ]
     },
     "execution_count": 35,
     "metadata": {},
     "output_type": "execute_result"
    }
   ],
   "source": [
    "letter_t"
   ]
  },
  {
   "cell_type": "code",
   "execution_count": 36,
   "id": "7583998a",
   "metadata": {},
   "outputs": [],
   "source": [
    "def clean_words(s):\n",
    "    punctuation = '.,;:\"“”!?_-\\''\n",
    "    word_list = s.lower().replace('\\n', ' ').split()\n",
    "    word_list = [w.strip(punctuation) for w in word_list]\n",
    "    return word_list"
   ]
  },
  {
   "cell_type": "code",
   "execution_count": 37,
   "id": "502937f9",
   "metadata": {},
   "outputs": [
    {
     "data": {
      "text/plain": [
       "['not',\n",
       " 'at',\n",
       " 'all',\n",
       " 'was',\n",
       " 'her',\n",
       " 'answer',\n",
       " 'but',\n",
       " 'depend',\n",
       " 'upon',\n",
       " 'it',\n",
       " 'he',\n",
       " 'means',\n",
       " 'to',\n",
       " 'be',\n",
       " 'severe']"
      ]
     },
     "execution_count": 37,
     "metadata": {},
     "output_type": "execute_result"
    }
   ],
   "source": [
    "words_in_line = clean_words(line)\n",
    "words_in_line"
   ]
  },
  {
   "cell_type": "code",
   "execution_count": null,
   "id": "8bb0cf7d",
   "metadata": {},
   "outputs": [],
   "source": []
  }
 ],
 "metadata": {
  "kernelspec": {
   "display_name": "Python 3 (ipykernel)",
   "language": "python",
   "name": "python3"
  },
  "language_info": {
   "codemirror_mode": {
    "name": "ipython",
    "version": 3
   },
   "file_extension": ".py",
   "mimetype": "text/x-python",
   "name": "python",
   "nbconvert_exporter": "python",
   "pygments_lexer": "ipython3",
   "version": "3.8.5"
  }
 },
 "nbformat": 4,
 "nbformat_minor": 5
}
