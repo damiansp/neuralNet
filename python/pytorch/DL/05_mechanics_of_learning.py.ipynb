{
 "cells": [
  {
   "cell_type": "code",
   "execution_count": 3,
   "id": "5a9c16b3",
   "metadata": {},
   "outputs": [],
   "source": [
    "import matplotlib.pyplot as plt\n",
    "import torch"
   ]
  },
  {
   "cell_type": "code",
   "execution_count": 4,
   "id": "1f5a3df6",
   "metadata": {},
   "outputs": [],
   "source": [
    "tc = torch.tensor(\n",
    "    [ 0.5,  14.,  15.,  28.,  11.,   8.,   3.,  -4.  , 6.,  13.,  21.])\n",
    "tu = torch.tensor(\n",
    "    [35.7, 55.9, 58.2, 81.9, 56.3, 48.9, 33.9, 21.8, 48.4, 60.4, 68.4])"
   ]
  },
  {
   "cell_type": "code",
   "execution_count": 6,
   "id": "8f209ce2",
   "metadata": {},
   "outputs": [
    {
     "data": {
      "image/png": "[encoded data removed]",
      "text/plain": [
       "<Figure size 432x288 with 1 Axes>"
      ]
     },
     "metadata": {
      "needs_background": "light"
     },
     "output_type": "display_data"
    }
   ],
   "source": [
    "plt.scatter(tu, tc)\n",
    "plt.xlabel('Measurement')\n",
    "plt.ylabel('Temperature (C)');"
   ]
  },
  {
   "cell_type": "code",
   "execution_count": 7,
   "id": "9055b772",
   "metadata": {},
   "outputs": [],
   "source": [
    "def model(tu, w, b):\n",
    "    return w * tu + b"
   ]
  },
  {
   "cell_type": "code",
   "execution_count": 9,
   "id": "a5d2b9b7",
   "metadata": {},
   "outputs": [],
   "source": [
    "def loss_fn(tp, tc):\n",
    "    mse = ((tp - tc) ** 2).mean()\n",
    "    return mse"
   ]
  },
  {
   "cell_type": "code",
   "execution_count": null,
   "id": "c525d400",
   "metadata": {},
   "outputs": [],
   "source": []
  }
 ],
 "metadata": {
  "kernelspec": {
   "display_name": "Python 3 (ipykernel)",
   "language": "python",
   "name": "python3"
  },
  "language_info": {
   "codemirror_mode": {
    "name": "ipython",
    "version": 3
   },
   "file_extension": ".py",
   "mimetype": "text/x-python",
   "name": "python",
   "nbconvert_exporter": "python",
   "pygments_lexer": "ipython3",
   "version": "3.8.5"
  }
 },
 "nbformat": 4,
 "nbformat_minor": 5
}
