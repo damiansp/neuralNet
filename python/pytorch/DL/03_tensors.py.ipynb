{
 "cells": [
  {
   "cell_type": "code",
   "execution_count": 1,
   "id": "acknowledged-converter",
   "metadata": {},
   "outputs": [],
   "source": [
    "import torch"
   ]
  },
  {
   "cell_type": "code",
   "execution_count": 2,
   "id": "architectural-consortium",
   "metadata": {},
   "outputs": [
    {
     "data": {
      "text/plain": [
       "tensor([1., 1., 1.])"
      ]
     },
     "execution_count": 2,
     "metadata": {},
     "output_type": "execute_result"
    }
   ],
   "source": [
    "a = torch.ones(3)\n",
    "a"
   ]
  },
  {
   "cell_type": "code",
   "execution_count": 3,
   "id": "fresh-glossary",
   "metadata": {},
   "outputs": [
    {
     "data": {
      "text/plain": [
       "tensor(1.)"
      ]
     },
     "execution_count": 3,
     "metadata": {},
     "output_type": "execute_result"
    }
   ],
   "source": [
    "a[1]"
   ]
  },
  {
   "cell_type": "code",
   "execution_count": 4,
   "id": "intended-dressing",
   "metadata": {},
   "outputs": [
    {
     "data": {
      "text/plain": [
       "tensor([1., 1., 2.])"
      ]
     },
     "execution_count": 4,
     "metadata": {},
     "output_type": "execute_result"
    }
   ],
   "source": [
    "a[2] = 2.\n",
    "a"
   ]
  },
  {
   "cell_type": "code",
   "execution_count": 5,
   "id": "approximate-runner",
   "metadata": {},
   "outputs": [
    {
     "data": {
      "text/plain": [
       "tensor([4., 1., 5., 3., 2., 1.])"
      ]
     },
     "execution_count": 5,
     "metadata": {},
     "output_type": "execute_result"
    }
   ],
   "source": [
    "points = torch.tensor([4., 1., 5., 3., 2., 1.])\n",
    "points"
   ]
  },
  {
   "cell_type": "code",
   "execution_count": 6,
   "id": "competent-richards",
   "metadata": {},
   "outputs": [
    {
     "data": {
      "text/plain": [
       "(4.0, 1.0)"
      ]
     },
     "execution_count": 6,
     "metadata": {},
     "output_type": "execute_result"
    }
   ],
   "source": [
    "float(points[0]), float(points[1])"
   ]
  },
  {
   "cell_type": "code",
   "execution_count": 7,
   "id": "medieval-newman",
   "metadata": {},
   "outputs": [
    {
     "data": {
      "text/plain": [
       "tensor([[0., 0.],\n",
       "        [0., 0.],\n",
       "        [0., 0.]])"
      ]
     },
     "execution_count": 7,
     "metadata": {},
     "output_type": "execute_result"
    }
   ],
   "source": [
    "points = torch.zeros(3, 2)\n",
    "points"
   ]
  },
  {
   "cell_type": "code",
   "execution_count": 8,
   "id": "rural-assurance",
   "metadata": {},
   "outputs": [
    {
     "data": {
      "text/plain": [
       "tensor([[4., 1.],\n",
       "        [5., 3.],\n",
       "        [2., 1.]])"
      ]
     },
     "execution_count": 8,
     "metadata": {},
     "output_type": "execute_result"
    }
   ],
   "source": [
    "points = torch.tensor([[4., 1.], [5., 3.], [2., 1.]])\n",
    "points"
   ]
  },
  {
   "cell_type": "code",
   "execution_count": 9,
   "id": "functioning-cable",
   "metadata": {},
   "outputs": [
    {
     "data": {
      "text/plain": [
       "torch.Size([3, 2])"
      ]
     },
     "execution_count": 9,
     "metadata": {},
     "output_type": "execute_result"
    }
   ],
   "source": [
    "points.shape"
   ]
  },
  {
   "cell_type": "code",
   "execution_count": 10,
   "id": "brilliant-cookbook",
   "metadata": {},
   "outputs": [
    {
     "data": {
      "text/plain": [
       "torch.Size([3, 2])"
      ]
     },
     "execution_count": 10,
     "metadata": {},
     "output_type": "execute_result"
    }
   ],
   "source": [
    "points.size()"
   ]
  },
  {
   "cell_type": "code",
   "execution_count": 11,
   "id": "celtic-joyce",
   "metadata": {},
   "outputs": [
    {
     "data": {
      "text/plain": [
       "tensor(1.)"
      ]
     },
     "execution_count": 11,
     "metadata": {},
     "output_type": "execute_result"
    }
   ],
   "source": [
    "points[2, 1]"
   ]
  },
  {
   "cell_type": "code",
   "execution_count": 12,
   "id": "french-prediction",
   "metadata": {},
   "outputs": [
    {
     "data": {
      "text/plain": [
       "tensor([5., 3.])"
      ]
     },
     "execution_count": 12,
     "metadata": {},
     "output_type": "execute_result"
    }
   ],
   "source": [
    "points[1]"
   ]
  },
  {
   "cell_type": "code",
   "execution_count": 13,
   "id": "metallic-italy",
   "metadata": {},
   "outputs": [
    {
     "data": {
      "text/plain": [
       "tensor([1., 3., 1.])"
      ]
     },
     "execution_count": 13,
     "metadata": {},
     "output_type": "execute_result"
    }
   ],
   "source": [
    "points[:, 1]"
   ]
  },
  {
   "cell_type": "code",
   "execution_count": 14,
   "id": "fossil-liberal",
   "metadata": {},
   "outputs": [
    {
     "data": {
      "text/plain": [
       "tensor([[[4., 1.],\n",
       "         [5., 3.],\n",
       "         [2., 1.]]])"
      ]
     },
     "execution_count": 14,
     "metadata": {},
     "output_type": "execute_result"
    }
   ],
   "source": [
    "points[None] # note added dim"
   ]
  },
  {
   "cell_type": "markdown",
   "id": "unlikely-reverse",
   "metadata": {},
   "source": [
    "### Named tensors"
   ]
  },
  {
   "cell_type": "code",
   "execution_count": 15,
   "id": "purple-chart",
   "metadata": {},
   "outputs": [],
   "source": [
    "img_t = torch.randn(3, 5, 5) # [channels, rows, cols]\n",
    "weights = torch.tensor([0.2126, 0.7152, 0.0722])\n",
    "batch_t = torch.randn(2, 3, 5, 5) # [batch, chan, rows, cols]"
   ]
  },
  {
   "cell_type": "code",
   "execution_count": 16,
   "id": "friendly-translation",
   "metadata": {},
   "outputs": [
    {
     "data": {
      "text/plain": [
       "(torch.Size([5, 5]), torch.Size([2, 5, 5]))"
      ]
     },
     "execution_count": 16,
     "metadata": {},
     "output_type": "execute_result"
    }
   ],
   "source": [
    "img_grey_naive = img_t.mean(-3)\n",
    "batch_grey_naive = batch_t.mean(-3)\n",
    "img_grey_naive.shape, batch_grey_naive.shape"
   ]
  },
  {
   "cell_type": "code",
   "execution_count": 17,
   "id": "looking-vampire",
   "metadata": {},
   "outputs": [
    {
     "data": {
      "text/plain": [
       "tensor([[0.2126],\n",
       "        [0.7152],\n",
       "        [0.0722]])"
      ]
     },
     "execution_count": 17,
     "metadata": {},
     "output_type": "execute_result"
    }
   ],
   "source": [
    "weights.unsqueeze(-1)"
   ]
  },
  {
   "cell_type": "code",
   "execution_count": 18,
   "id": "postal-services",
   "metadata": {},
   "outputs": [
    {
     "data": {
      "text/plain": [
       "tensor([[0.2126],\n",
       "        [0.7152],\n",
       "        [0.0722]])"
      ]
     },
     "execution_count": 18,
     "metadata": {},
     "output_type": "execute_result"
    }
   ],
   "source": [
    "weights.unsqueeze_(-1)"
   ]
  },
  {
   "cell_type": "code",
   "execution_count": 19,
   "id": "arranged-sweet",
   "metadata": {},
   "outputs": [
    {
     "data": {
      "text/plain": [
       "tensor([[[[0.2126]]],\n",
       "\n",
       "\n",
       "        [[[0.7152]]],\n",
       "\n",
       "\n",
       "        [[[0.0722]]]])"
      ]
     },
     "execution_count": 19,
     "metadata": {},
     "output_type": "execute_result"
    }
   ],
   "source": [
    "weights.unsqueeze(-1).unsqueeze_(-1)"
   ]
  },
  {
   "cell_type": "code",
   "execution_count": 20,
   "id": "latest-investigation",
   "metadata": {},
   "outputs": [
    {
     "ename": "RuntimeError",
     "evalue": "The size of tensor a (2) must match the size of tensor b (3) at non-singleton dimension 0",
     "output_type": "error",
     "traceback": [
      "\u001b[0;31m---------------------------------------------------------------------------\u001b[0m",
      "\u001b[0;31mRuntimeError\u001b[0m                              Traceback (most recent call last)",
      "\u001b[0;32m/var/folders/41/jhvt_zmd3nz3x5jsqblr221r0000gn/T/ipykernel_71940/1793246498.py\u001b[0m in \u001b[0;36m<module>\u001b[0;34m\u001b[0m\n\u001b[1;32m      1\u001b[0m \u001b[0munsqueezed_weights\u001b[0m \u001b[0;34m=\u001b[0m \u001b[0mweights\u001b[0m\u001b[0;34m.\u001b[0m\u001b[0munsqueeze\u001b[0m\u001b[0;34m(\u001b[0m\u001b[0;34m-\u001b[0m\u001b[0;36m1\u001b[0m\u001b[0;34m)\u001b[0m\u001b[0;34m.\u001b[0m\u001b[0munsqueeze_\u001b[0m\u001b[0;34m(\u001b[0m\u001b[0;34m-\u001b[0m\u001b[0;36m1\u001b[0m\u001b[0;34m)\u001b[0m\u001b[0;34m\u001b[0m\u001b[0;34m\u001b[0m\u001b[0m\n\u001b[1;32m      2\u001b[0m \u001b[0mimg_weight\u001b[0m \u001b[0;34m=\u001b[0m \u001b[0mimg_t\u001b[0m \u001b[0;34m*\u001b[0m \u001b[0munsqueezed_weights\u001b[0m\u001b[0;34m\u001b[0m\u001b[0;34m\u001b[0m\u001b[0m\n\u001b[0;32m----> 3\u001b[0;31m \u001b[0mbatch_weights\u001b[0m \u001b[0;34m=\u001b[0m \u001b[0mbatch_t\u001b[0m \u001b[0;34m*\u001b[0m \u001b[0munsqueezed_weights\u001b[0m\u001b[0;34m\u001b[0m\u001b[0;34m\u001b[0m\u001b[0m\n\u001b[0m\u001b[1;32m      4\u001b[0m \u001b[0mimg_grey_weighted\u001b[0m \u001b[0;34m=\u001b[0m \u001b[0mimg_weights\u001b[0m\u001b[0;34m.\u001b[0m\u001b[0msum\u001b[0m\u001b[0;34m(\u001b[0m\u001b[0;34m-\u001b[0m\u001b[0;36m3\u001b[0m\u001b[0;34m)\u001b[0m\u001b[0;34m\u001b[0m\u001b[0;34m\u001b[0m\u001b[0m\n\u001b[1;32m      5\u001b[0m \u001b[0mbatch_grey_weights\u001b[0m \u001b[0;34m=\u001b[0m \u001b[0mbatch_weights\u001b[0m\u001b[0;34m.\u001b[0m\u001b[0msum\u001b[0m\u001b[0;34m(\u001b[0m\u001b[0;34m-\u001b[0m\u001b[0;36m3\u001b[0m\u001b[0;34m)\u001b[0m\u001b[0;34m\u001b[0m\u001b[0;34m\u001b[0m\u001b[0m\n",
      "\u001b[0;31mRuntimeError\u001b[0m: The size of tensor a (2) must match the size of tensor b (3) at non-singleton dimension 0"
     ]
    }
   ],
   "source": [
    "unsqueezed_weights = weights.unsqueeze(-1).unsqueeze_(-1)\n",
    "img_weight = img_t * unsqueezed_weights\n",
    "batch_weights = batch_t * unsqueezed_weights\n",
    "img_grey_weighted = img_weights.sum(-3)\n",
    "batch_grey_weights = batch_weights.sum(-3)\n",
    "[x.shape for x in (batch_weights, batch_t, unsqueezed_weights)]"
   ]
  },
  {
   "cell_type": "code",
   "execution_count": null,
   "id": "advance-communications",
   "metadata": {},
   "outputs": [],
   "source": [
    "weights_named = torch.tensor([0.2126, 0.7163, 0.0733], \n",
    "                             names=['channels'])\n",
    "weights_named"
   ]
  },
  {
   "cell_type": "code",
   "execution_count": null,
   "id": "controlled-omaha",
   "metadata": {},
   "outputs": [],
   "source": [
    "img_named = img_t.refine_names(..., 'channels', 'rows', 'columns')\n",
    "batch_named = batch_t.refine_names(..., 'channels', 'rows', 'columns')\n",
    "print('img named:', img_named.shape, img_named.names)\n",
    "print('batch named:', batch_named.shape, batch_named.names)"
   ]
  },
  {
   "cell_type": "code",
   "execution_count": null,
   "id": "f5eedbbe",
   "metadata": {},
   "outputs": [],
   "source": [
    "weights_aligned = weights_named.align_as(img_named)\n",
    "weights_aligned.shape, weights_aligned.names"
   ]
  },
  {
   "cell_type": "code",
   "execution_count": null,
   "id": "b2378496",
   "metadata": {},
   "outputs": [],
   "source": [
    "grey_named = (img_named * weights_aligned).sum('channels')\n",
    "grey_named.shape, grey_named.names"
   ]
  },
  {
   "cell_type": "code",
   "execution_count": null,
   "id": "89d112ee",
   "metadata": {},
   "outputs": [],
   "source": [
    "grey_plain = grey_named.rename(None)\n",
    "grey_plain.shape, grey_plain.names"
   ]
  },
  {
   "cell_type": "markdown",
   "id": "d2ce24b8",
   "metadata": {},
   "source": [
    "### dtypes"
   ]
  },
  {
   "cell_type": "code",
   "execution_count": null,
   "id": "80642d62",
   "metadata": {},
   "outputs": [],
   "source": [
    "double_points = torch.ones(10, 2, dtype=torch.double)\n",
    "short_points = torch.tensor([[1, 2,], [3, 4]], dtype=torch.short)"
   ]
  },
  {
   "cell_type": "code",
   "execution_count": null,
   "id": "b5d8fd59",
   "metadata": {},
   "outputs": [],
   "source": [
    "double_points = torch.zeros(10, 2).double()\n",
    "short_points = torch.ones(10, 2).short()"
   ]
  },
  {
   "cell_type": "code",
   "execution_count": null,
   "id": "cc9385ec",
   "metadata": {},
   "outputs": [],
   "source": [
    "double_points = torch.zeros(10, 2).to(torch.double)\n",
    "short_points = torch.ones(10, 2).to(dtype=torch.short)"
   ]
  },
  {
   "cell_type": "code",
   "execution_count": null,
   "id": "155c2fd6",
   "metadata": {},
   "outputs": [],
   "source": [
    "points64 = torch.rand(4, dtype=torch.double)\n",
    "points_short = points64.to(torch.short)\n",
    "points_short"
   ]
  },
  {
   "cell_type": "code",
   "execution_count": null,
   "id": "1bfd34c6",
   "metadata": {},
   "outputs": [],
   "source": [
    "points64 * points_short"
   ]
  },
  {
   "cell_type": "markdown",
   "id": "73202450",
   "metadata": {},
   "source": [
    "### Tensor API"
   ]
  },
  {
   "cell_type": "code",
   "execution_count": null,
   "id": "b911f745",
   "metadata": {},
   "outputs": [],
   "source": [
    "a = torch.ones(3, 2)\n",
    "a_t = torch.transpose(a, 0, 1)\n",
    "a.shape, a_t.shape"
   ]
  },
  {
   "cell_type": "code",
   "execution_count": null,
   "id": "daae5fa6",
   "metadata": {},
   "outputs": [],
   "source": [
    "a_t = a.transpose(0, 1)\n",
    "a_t.shape"
   ]
  },
  {
   "cell_type": "markdown",
   "id": "ca23c925",
   "metadata": {},
   "source": [
    "## Storage\n",
    "### Indexing into Storage"
   ]
  },
  {
   "cell_type": "code",
   "execution_count": null,
   "id": "bdd2f017",
   "metadata": {},
   "outputs": [],
   "source": [
    "points = torch.tensor([[4., 1.], [5., 3.], [2., 1]])\n",
    "points.storage()"
   ]
  },
  {
   "cell_type": "code",
   "execution_count": null,
   "id": "c18f3146",
   "metadata": {},
   "outputs": [],
   "source": [
    "points_storage = points.storage()\n",
    "points_storage[0]"
   ]
  },
  {
   "cell_type": "code",
   "execution_count": null,
   "id": "d094853e",
   "metadata": {},
   "outputs": [],
   "source": [
    "points.storage()[1]"
   ]
  },
  {
   "cell_type": "code",
   "execution_count": 21,
   "id": "02ca6b76",
   "metadata": {},
   "outputs": [
    {
     "ename": "NameError",
     "evalue": "name 'points_storage' is not defined",
     "output_type": "error",
     "traceback": [
      "\u001b[0;31m---------------------------------------------------------------------------\u001b[0m",
      "\u001b[0;31mNameError\u001b[0m                                 Traceback (most recent call last)",
      "\u001b[0;32m/var/folders/41/jhvt_zmd3nz3x5jsqblr221r0000gn/T/ipykernel_71940/720943227.py\u001b[0m in \u001b[0;36m<module>\u001b[0;34m\u001b[0m\n\u001b[0;32m----> 1\u001b[0;31m \u001b[0mpoints_storage\u001b[0m\u001b[0;34m[\u001b[0m\u001b[0;36m0\u001b[0m\u001b[0;34m]\u001b[0m \u001b[0;34m=\u001b[0m \u001b[0;36m2.2\u001b[0m\u001b[0;34m\u001b[0m\u001b[0;34m\u001b[0m\u001b[0m\n\u001b[0m\u001b[1;32m      2\u001b[0m \u001b[0mpoints\u001b[0m\u001b[0;34m\u001b[0m\u001b[0;34m\u001b[0m\u001b[0m\n",
      "\u001b[0;31mNameError\u001b[0m: name 'points_storage' is not defined"
     ]
    }
   ],
   "source": [
    "points_storage[0] = 2.2\n",
    "points"
   ]
  },
  {
   "cell_type": "markdown",
   "id": "53821918",
   "metadata": {},
   "source": [
    "### Modifying Stored Values: In-place Ops"
   ]
  },
  {
   "cell_type": "code",
   "execution_count": 22,
   "id": "d0c4d4e9",
   "metadata": {},
   "outputs": [
    {
     "data": {
      "text/plain": [
       "tensor([[0., 0.],\n",
       "        [0., 0.],\n",
       "        [0., 0.]])"
      ]
     },
     "execution_count": 22,
     "metadata": {},
     "output_type": "execute_result"
    }
   ],
   "source": [
    "a = torch.ones(3, 2)\n",
    "a.zero_()\n",
    "a"
   ]
  },
  {
   "cell_type": "markdown",
   "id": "baa14827",
   "metadata": {},
   "source": [
    "## Tensor Metadata: Size, Offset, Stride\n",
    "### Veiws of another Tensor's Storage"
   ]
  },
  {
   "cell_type": "code",
   "execution_count": 23,
   "id": "73b27221",
   "metadata": {},
   "outputs": [
    {
     "data": {
      "text/plain": [
       "tensor([[4., 1.],\n",
       "        [5., 3.],\n",
       "        [2., 1.]])"
      ]
     },
     "execution_count": 23,
     "metadata": {},
     "output_type": "execute_result"
    }
   ],
   "source": [
    "points"
   ]
  },
  {
   "cell_type": "code",
   "execution_count": 24,
   "id": "8ea4b49f",
   "metadata": {},
   "outputs": [
    {
     "name": "stdout",
     "output_type": "stream",
     "text": [
      "tensor([5., 3.])\n"
     ]
    },
    {
     "data": {
      "text/plain": [
       "2"
      ]
     },
     "execution_count": 24,
     "metadata": {},
     "output_type": "execute_result"
    }
   ],
   "source": [
    "second_point = points[1]\n",
    "print(second_point)\n",
    "second_point.storage_offset()"
   ]
  },
  {
   "cell_type": "code",
   "execution_count": 25,
   "id": "d9331f28",
   "metadata": {},
   "outputs": [
    {
     "data": {
      "text/plain": [
       "torch.Size([2])"
      ]
     },
     "execution_count": 25,
     "metadata": {},
     "output_type": "execute_result"
    }
   ],
   "source": [
    "second_point.size()"
   ]
  },
  {
   "cell_type": "code",
   "execution_count": 26,
   "id": "1943a5ae",
   "metadata": {},
   "outputs": [
    {
     "data": {
      "text/plain": [
       "(2, 1)"
      ]
     },
     "execution_count": 26,
     "metadata": {},
     "output_type": "execute_result"
    }
   ],
   "source": [
    "points.stride()"
   ]
  },
  {
   "cell_type": "code",
   "execution_count": 27,
   "id": "9ae1542a",
   "metadata": {},
   "outputs": [
    {
     "data": {
      "text/plain": [
       "(1,)"
      ]
     },
     "execution_count": 27,
     "metadata": {},
     "output_type": "execute_result"
    }
   ],
   "source": [
    "second_point.stride()"
   ]
  },
  {
   "cell_type": "code",
   "execution_count": 28,
   "id": "6057aab3",
   "metadata": {},
   "outputs": [
    {
     "data": {
      "text/plain": [
       "tensor([[ 4.0000,  1.0000],\n",
       "        [99.9000,  3.0000],\n",
       "        [ 2.0000,  1.0000]])"
      ]
     },
     "execution_count": 28,
     "metadata": {},
     "output_type": "execute_result"
    }
   ],
   "source": [
    "second_point[0] = 99.9\n",
    "points"
   ]
  },
  {
   "cell_type": "code",
   "execution_count": 29,
   "id": "296a71c7",
   "metadata": {},
   "outputs": [
    {
     "data": {
      "text/plain": [
       "tensor([-5.5000,  3.0000])"
      ]
     },
     "execution_count": 29,
     "metadata": {},
     "output_type": "execute_result"
    }
   ],
   "source": [
    "second_point = points[1].clone()\n",
    "second_point[0] = -5.5\n",
    "second_point"
   ]
  },
  {
   "cell_type": "code",
   "execution_count": 30,
   "id": "1c94d86f",
   "metadata": {},
   "outputs": [
    {
     "data": {
      "text/plain": [
       "tensor([[ 4.0000,  1.0000],\n",
       "        [99.9000,  3.0000],\n",
       "        [ 2.0000,  1.0000]])"
      ]
     },
     "execution_count": 30,
     "metadata": {},
     "output_type": "execute_result"
    }
   ],
   "source": [
    "points"
   ]
  },
  {
   "cell_type": "markdown",
   "id": "393073ef",
   "metadata": {},
   "source": [
    "### Transpose w/o Copying"
   ]
  },
  {
   "cell_type": "code",
   "execution_count": 31,
   "id": "363892f6",
   "metadata": {},
   "outputs": [
    {
     "data": {
      "text/plain": [
       "tensor([[ 4.0000, 99.9000,  2.0000],\n",
       "        [ 1.0000,  3.0000,  1.0000]])"
      ]
     },
     "execution_count": 31,
     "metadata": {},
     "output_type": "execute_result"
    }
   ],
   "source": [
    "points_t = points.t()\n",
    "points_t"
   ]
  },
  {
   "cell_type": "code",
   "execution_count": 32,
   "id": "5d13e126",
   "metadata": {},
   "outputs": [
    {
     "data": {
      "text/plain": [
       "True"
      ]
     },
     "execution_count": 32,
     "metadata": {},
     "output_type": "execute_result"
    }
   ],
   "source": [
    "id(points.storage()) == id(points_t.storage())"
   ]
  },
  {
   "cell_type": "markdown",
   "id": "153ebfc5",
   "metadata": {},
   "source": [
    "### Higher Dimension Transposes"
   ]
  },
  {
   "cell_type": "code",
   "execution_count": 33,
   "id": "6d7186f4",
   "metadata": {},
   "outputs": [
    {
     "data": {
      "text/plain": [
       "(torch.Size([3, 4, 5]), torch.Size([5, 4, 3]))"
      ]
     },
     "execution_count": 33,
     "metadata": {},
     "output_type": "execute_result"
    }
   ],
   "source": [
    "some_t = torch.ones(3, 4, 5)\n",
    "transpose_t = some_t.transpose(0, 2)\n",
    "some_t.shape, transpose_t.shape"
   ]
  },
  {
   "cell_type": "code",
   "execution_count": 34,
   "id": "227135fa",
   "metadata": {},
   "outputs": [
    {
     "data": {
      "text/plain": [
       "((20, 5, 1), (1, 5, 20))"
      ]
     },
     "execution_count": 34,
     "metadata": {},
     "output_type": "execute_result"
    }
   ],
   "source": [
    "some_t.stride(), transpose_t.stride()"
   ]
  },
  {
   "cell_type": "markdown",
   "id": "e0c98f67",
   "metadata": {},
   "source": [
    "### Contiguous Tensors"
   ]
  },
  {
   "cell_type": "code",
   "execution_count": 35,
   "id": "761bdbbe",
   "metadata": {},
   "outputs": [
    {
     "data": {
      "text/plain": [
       "(True, False)"
      ]
     },
     "execution_count": 35,
     "metadata": {},
     "output_type": "execute_result"
    }
   ],
   "source": [
    "points.is_contiguous(), points_t.is_contiguous()"
   ]
  },
  {
   "cell_type": "markdown",
   "id": "9aceb566",
   "metadata": {},
   "source": [
    "## Moving Tensors to the GPU\n",
    "### Managing a Tensor's Device Attribute"
   ]
  },
  {
   "cell_type": "code",
   "execution_count": 38,
   "id": "8f125c4f",
   "metadata": {},
   "outputs": [],
   "source": [
    "#points_gpu = torch.tensor([[4., 1.], [5., 3.], [2., 1.]], device='cuda')"
   ]
  },
  {
   "cell_type": "code",
   "execution_count": 39,
   "id": "77efc24c",
   "metadata": {},
   "outputs": [
    {
     "data": {
      "text/plain": [
       "tensor([[ 4.0000,  1.0000],\n",
       "        [99.9000,  3.0000],\n",
       "        [ 2.0000,  1.0000]])"
      ]
     },
     "execution_count": 39,
     "metadata": {},
     "output_type": "execute_result"
    }
   ],
   "source": [
    "points"
   ]
  },
  {
   "cell_type": "code",
   "execution_count": 42,
   "id": "533d13f3",
   "metadata": {},
   "outputs": [],
   "source": [
    "#points_gpu = points.to(device='cuda')"
   ]
  },
  {
   "cell_type": "markdown",
   "id": "5ffe8d06",
   "metadata": {},
   "source": [
    "## Numpy Interoperability"
   ]
  },
  {
   "cell_type": "code",
   "execution_count": null,
   "id": "7f37d32f",
   "metadata": {},
   "outputs": [],
   "source": []
  }
 ],
 "metadata": {
  "kernelspec": {
   "display_name": "Python 3 (ipykernel)",
   "language": "python",
   "name": "python3"
  },
  "language_info": {
   "codemirror_mode": {
    "name": "ipython",
    "version": 3
   },
   "file_extension": ".py",
   "mimetype": "text/x-python",
   "name": "python",
   "nbconvert_exporter": "python",
   "pygments_lexer": "ipython3",
   "version": "3.8.5"
  }
 },
 "nbformat": 4,
 "nbformat_minor": 5
}
