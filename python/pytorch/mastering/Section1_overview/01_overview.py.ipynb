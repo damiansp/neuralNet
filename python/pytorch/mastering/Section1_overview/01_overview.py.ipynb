{
 "cells": [
  {
   "cell_type": "code",
   "execution_count": 13,
   "id": "democratic-collective",
   "metadata": {},
   "outputs": [],
   "source": [
    "import math\n",
    "\n",
    "import torch\n",
    "from   torch import nn, optim\n",
    "import torch.nn.functional as F\n",
    "from   torch.utils.data import DataLoader, TensorDataset"
   ]
  },
  {
   "cell_type": "code",
   "execution_count": 6,
   "id": "digital-socket",
   "metadata": {},
   "outputs": [
    {
     "data": {
      "text/plain": [
       "tensor([[ 0.0780,  0.0091, -0.0197, -0.0090],\n",
       "        [ 0.1185, -0.0025, -0.0539,  0.0870],\n",
       "        [-0.0819, -0.0594,  0.0129,  0.0004],\n",
       "        ...,\n",
       "        [ 0.0077,  0.0380, -0.0720,  0.0232],\n",
       "        [ 0.0511,  0.0714, -0.0478, -0.0377],\n",
       "        [-0.0442,  0.0485, -0.0317,  0.0342]], requires_grad=True)"
      ]
     },
     "execution_count": 6,
     "metadata": {},
     "output_type": "execute_result"
    }
   ],
   "source": [
    "W = torch.randn(256, 4) / math.sqrt(256)\n",
    "W.requires_grad_()"
   ]
  },
  {
   "cell_type": "code",
   "execution_count": 7,
   "id": "prescription-pillow",
   "metadata": {},
   "outputs": [],
   "source": [
    "b = torch.zeros(4, requires_grad=True)"
   ]
  },
  {
   "cell_type": "code",
   "execution_count": 9,
   "id": "removed-starter",
   "metadata": {},
   "outputs": [],
   "source": [
    "loss_func = F.cross_entropy\n",
    "# loss = loss_func(mod(X), y)"
   ]
  },
  {
   "cell_type": "code",
   "execution_count": 11,
   "id": "characteristic-tourism",
   "metadata": {},
   "outputs": [],
   "source": [
    "#opt = optim.SGD(mod.parameter(), lr=ETA)"
   ]
  },
  {
   "cell_type": "code",
   "execution_count": 12,
   "id": "running-seating",
   "metadata": {},
   "outputs": [
    {
     "data": {
      "text/plain": [
       "'\\nopt.step()\\nopt.zero_grad()\\n'"
      ]
     },
     "execution_count": 12,
     "metadata": {},
     "output_type": "execute_result"
    }
   ],
   "source": [
    "'''\n",
    "with torch.no_grad():\n",
    "    for param in mod.parameters:\n",
    "        param -= param.grad * ETA # grad desc step\n",
    "    mod.zero_grad()\n",
    "'''\n",
    "\n",
    "# Equivalent to:\n",
    "'''\n",
    "opt.step()\n",
    "opt.zero_grad()\n",
    "'''"
   ]
  },
  {
   "cell_type": "code",
   "execution_count": null,
   "id": "israeli-heaven",
   "metadata": {},
   "outputs": [],
   "source": [
    "'''\n",
    "train_dataset = TensorDataset(X_train, y_train)\n",
    "train_dataloader = DataLoader(train_dataset, batc_size=BATCH)\n",
    "'''\n",
    "\n",
    "# now instead of manually iterating through data like:\n",
    "'''\n",
    "for i in range((n - 1) // bs + 1):\n",
    "    X_batch = X_train[start:end]\n",
    "    y_batch = y_train[start:end]\n",
    "    preds = mod(X_batch)\n",
    "'''\n",
    "\n",
    "# ...can simplify to\n",
    "'''\n",
    "for X_batch, y_batch in train_dataloader:\n",
    "    preds = mod(X_batch)\n",
    "'''"
   ]
  }
 ],
 "metadata": {
  "kernelspec": {
   "display_name": "Python 3",
   "language": "python",
   "name": "python3"
  },
  "language_info": {
   "codemirror_mode": {
    "name": "ipython",
    "version": 3
   },
   "file_extension": ".py",
   "mimetype": "text/x-python",
   "name": "python",
   "nbconvert_exporter": "python",
   "pygments_lexer": "ipython3",
   "version": "3.8.8"
  }
 },
 "nbformat": 4,
 "nbformat_minor": 5
}
