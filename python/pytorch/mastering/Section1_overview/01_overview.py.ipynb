{
 "cells": [
  {
   "cell_type": "code",
   "execution_count": 21,
   "id": "democratic-collective",
   "metadata": {},
   "outputs": [],
   "source": [
    "import math\n",
    "\n",
    "import matplotlib.pyplot as plt\n",
    "import torch\n",
    "from   torch import nn, optim\n",
    "import torch.nn.functional as F\n",
    "from   torch.utils.data import DataLoader, TensorDataset\n",
    "from   torchvision import datasets, transforms"
   ]
  },
  {
   "cell_type": "code",
   "execution_count": 2,
   "id": "digital-socket",
   "metadata": {},
   "outputs": [
    {
     "data": {
      "text/plain": [
       "tensor([[-0.0262,  0.0244, -0.0047, -0.0516],\n",
       "        [ 0.0111,  0.0395,  0.0363, -0.0739],\n",
       "        [-0.0468,  0.0285, -0.0957, -0.0715],\n",
       "        ...,\n",
       "        [-0.0854, -0.0859, -0.0786, -0.0552],\n",
       "        [ 0.0080,  0.0071,  0.0519, -0.0544],\n",
       "        [-0.0024,  0.0033, -0.0582,  0.0629]], requires_grad=True)"
      ]
     },
     "execution_count": 2,
     "metadata": {},
     "output_type": "execute_result"
    }
   ],
   "source": [
    "W = torch.randn(256, 4) / math.sqrt(256)\n",
    "W.requires_grad_()"
   ]
  },
  {
   "cell_type": "code",
   "execution_count": 3,
   "id": "prescription-pillow",
   "metadata": {},
   "outputs": [],
   "source": [
    "b = torch.zeros(4, requires_grad=True)"
   ]
  },
  {
   "cell_type": "code",
   "execution_count": 4,
   "id": "removed-starter",
   "metadata": {},
   "outputs": [],
   "source": [
    "loss_func = F.cross_entropy\n",
    "# loss = loss_func(mod(X), y)"
   ]
  },
  {
   "cell_type": "code",
   "execution_count": 5,
   "id": "characteristic-tourism",
   "metadata": {},
   "outputs": [],
   "source": [
    "#opt = optim.SGD(mod.parameter(), lr=ETA)"
   ]
  },
  {
   "cell_type": "code",
   "execution_count": 6,
   "id": "running-seating",
   "metadata": {},
   "outputs": [
    {
     "data": {
      "text/plain": [
       "'\\nopt.step()\\nopt.zero_grad()\\n'"
      ]
     },
     "execution_count": 6,
     "metadata": {},
     "output_type": "execute_result"
    }
   ],
   "source": [
    "'''\n",
    "with torch.no_grad():\n",
    "    for param in mod.parameters:\n",
    "        param -= param.grad * ETA # grad desc step\n",
    "    mod.zero_grad()\n",
    "'''\n",
    "\n",
    "# Equivalent to:\n",
    "'''\n",
    "opt.step()\n",
    "opt.zero_grad()\n",
    "'''"
   ]
  },
  {
   "cell_type": "code",
   "execution_count": 7,
   "id": "israeli-heaven",
   "metadata": {},
   "outputs": [
    {
     "data": {
      "text/plain": [
       "'\\nfor X_batch, y_batch in train_dataloader:\\n    preds = mod(X_batch)\\n'"
      ]
     },
     "execution_count": 7,
     "metadata": {},
     "output_type": "execute_result"
    }
   ],
   "source": [
    "'''\n",
    "train_dataset = TensorDataset(X_train, y_train)\n",
    "train_dataloader = DataLoader(train_dataset, batc_size=BATCH)\n",
    "'''\n",
    "\n",
    "# now instead of manually iterating through data like:\n",
    "'''\n",
    "for i in range((n - 1) // bs + 1):\n",
    "    X_batch = X_train[start:end]\n",
    "    y_batch = y_train[start:end]\n",
    "    preds = mod(X_batch)\n",
    "'''\n",
    "\n",
    "# ...can simplify to\n",
    "'''\n",
    "for X_batch, y_batch in train_dataloader:\n",
    "    preds = mod(X_batch)\n",
    "'''"
   ]
  },
  {
   "cell_type": "code",
   "execution_count": 8,
   "id": "signed-shadow",
   "metadata": {},
   "outputs": [
    {
     "data": {
      "text/plain": [
       "tensor(1.)"
      ]
     },
     "execution_count": 8,
     "metadata": {},
     "output_type": "execute_result"
    }
   ],
   "source": [
    "points = torch.tensor([1., 4., 2., 1., 3., 5.])\n",
    "points[0]"
   ]
  },
  {
   "cell_type": "code",
   "execution_count": 9,
   "id": "median-seating",
   "metadata": {},
   "outputs": [
    {
     "data": {
      "text/plain": [
       "1.0"
      ]
     },
     "execution_count": 9,
     "metadata": {},
     "output_type": "execute_result"
    }
   ],
   "source": [
    "float(points[0])"
   ]
  },
  {
   "cell_type": "code",
   "execution_count": 10,
   "id": "orange-stations",
   "metadata": {},
   "outputs": [
    {
     "data": {
      "text/plain": [
       "torch.Size([6])"
      ]
     },
     "execution_count": 10,
     "metadata": {},
     "output_type": "execute_result"
    }
   ],
   "source": [
    "points.shape"
   ]
  },
  {
   "cell_type": "code",
   "execution_count": 11,
   "id": "located-limit",
   "metadata": {},
   "outputs": [
    {
     "data": {
      "text/plain": [
       " 1.0\n",
       " 4.0\n",
       " 2.0\n",
       " 1.0\n",
       " 3.0\n",
       " 5.0\n",
       "[torch.FloatStorage of size 6]"
      ]
     },
     "execution_count": 11,
     "metadata": {},
     "output_type": "execute_result"
    }
   ],
   "source": [
    "points = torch.tensor([[1., 4.], [2., 1.], [3., 5.]])\n",
    "points.storage()"
   ]
  },
  {
   "cell_type": "code",
   "execution_count": 12,
   "id": "approved-nudist",
   "metadata": {},
   "outputs": [
    {
     "data": {
      "text/plain": [
       "(torch.Size([3, 2]), torch.Size([3, 2]))"
      ]
     },
     "execution_count": 12,
     "metadata": {},
     "output_type": "execute_result"
    }
   ],
   "source": [
    "points.shape, points.size()"
   ]
  },
  {
   "cell_type": "code",
   "execution_count": 13,
   "id": "superior-floor",
   "metadata": {},
   "outputs": [
    {
     "data": {
      "text/plain": [
       "0"
      ]
     },
     "execution_count": 13,
     "metadata": {},
     "output_type": "execute_result"
    }
   ],
   "source": [
    "points.storage_offset() # index of 1st elem"
   ]
  },
  {
   "cell_type": "code",
   "execution_count": 14,
   "id": "binary-garbage",
   "metadata": {},
   "outputs": [
    {
     "data": {
      "text/plain": [
       "2"
      ]
     },
     "execution_count": 14,
     "metadata": {},
     "output_type": "execute_result"
    }
   ],
   "source": [
    "points[1].storage_offset()"
   ]
  },
  {
   "cell_type": "code",
   "execution_count": 15,
   "id": "coated-capability",
   "metadata": {},
   "outputs": [
    {
     "data": {
      "text/plain": [
       "(2, 1)"
      ]
     },
     "execution_count": 15,
     "metadata": {},
     "output_type": "execute_result"
    }
   ],
   "source": [
    "points.stride() "
   ]
  },
  {
   "cell_type": "code",
   "execution_count": 16,
   "id": "suburban-professor",
   "metadata": {},
   "outputs": [],
   "source": [
    "points = torch.tensor([[1., 2.], [3., 4.]], dtype=torch.float32)"
   ]
  },
  {
   "cell_type": "code",
   "execution_count": 17,
   "id": "defensive-thread",
   "metadata": {},
   "outputs": [],
   "source": [
    "points = torch.tensor(\n",
    "    [[1., 2.], [3., 4.]], dtype=torch.float32, device='cpu')"
   ]
  },
  {
   "cell_type": "code",
   "execution_count": 20,
   "id": "irish-input",
   "metadata": {},
   "outputs": [],
   "source": [
    "#points2 = points.to(device='cuda')\n",
    "#points3 = points.to(device='cuda:0')"
   ]
  },
  {
   "cell_type": "code",
   "execution_count": 22,
   "id": "american-uzbekistan",
   "metadata": {},
   "outputs": [],
   "source": [
    "# CNN for MNIST\n",
    "class ConvNet(nn.Module):\n",
    "    def __init__(self):\n",
    "        super().__init__()\n",
    "        self.cn1 = nn.Conv2d(1, 16, 3, 1)\n",
    "        self.cn2 = nn.Conv2d(16, 32, 3, 1)\n",
    "        self.dp1 = nn.Dropout2d(0.1)\n",
    "        self.dp2 = nn.Dropout2d(0.25)\n",
    "        self.fc1 = nn.Linear(12 * 12 * 32, 64)\n",
    "        self.fc2 = nn.Lenear(64, 10)\n",
    "        \n",
    "    def forward(self, x):\n",
    "        x = self.cn1(x)\n",
    "        x = F.relu(x)\n",
    "        x = self.cn2(x)\n",
    "        x = F.relu(x)\n",
    "        x = F.max_pool2d(x, 2)\n",
    "        x = self.dp1(x)\n",
    "        x = torch.flatten(x, 1)\n",
    "        x = self.fc1(x)\n",
    "        x = F.relu(x)\n",
    "        x = self.dp2(x)\n",
    "        x = self.fc2(x)\n",
    "        op = F.log_softmax(x, dim=1)\n",
    "        return op"
   ]
  },
  {
   "cell_type": "code",
   "execution_count": null,
   "id": "covered-classic",
   "metadata": {},
   "outputs": [],
   "source": []
  }
 ],
 "metadata": {
  "kernelspec": {
   "display_name": "Python 3",
   "language": "python",
   "name": "python3"
  },
  "language_info": {
   "codemirror_mode": {
    "name": "ipython",
    "version": 3
   },
   "file_extension": ".py",
   "mimetype": "text/x-python",
   "name": "python",
   "nbconvert_exporter": "python",
   "pygments_lexer": "ipython3",
   "version": "3.8.8"
  }
 },
 "nbformat": 4,
 "nbformat_minor": 5
}
