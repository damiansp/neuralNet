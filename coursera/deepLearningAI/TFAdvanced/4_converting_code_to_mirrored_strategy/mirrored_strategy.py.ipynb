{
 "cells": [
  {
   "cell_type": "code",
   "execution_count": 13,
   "id": "ordered-wheat",
   "metadata": {},
   "outputs": [],
   "source": [
    "import os\n",
    "\n",
    "import tensorflow as tf\n",
    "from tensorflow.keras import Sequential\n",
    "from tensorflow.keras.layers import Conv2D, Dense, Flatten, MaxPooling2D\n",
    "from tensorflow.keras.losses import SparseCategoricalCrossentropy\n",
    "from tensorflow.keras.optimizers import Adam\n",
    "import tensorflow_datasets as tfds\n",
    "\n",
    "tfds.disable_progress_bar()"
   ]
  },
  {
   "cell_type": "code",
   "execution_count": 3,
   "id": "olympic-chair",
   "metadata": {},
   "outputs": [],
   "source": [
    "datasets, info = tfds.load(\n",
    "    name='mnist', with_info=True, as_supervised=True)\n",
    "train, test = datasets['train'], datasets['test']"
   ]
  },
  {
   "cell_type": "code",
   "execution_count": 5,
   "id": "pleasant-witness",
   "metadata": {},
   "outputs": [
    {
     "name": "stdout",
     "output_type": "stream",
     "text": [
      "WARNING:tensorflow:There are non-GPU devices in `tf.distribute.Strategy`, not using nccl allreduce.\n"
     ]
    },
    {
     "name": "stderr",
     "output_type": "stream",
     "text": [
      "WARNING:tensorflow:There are non-GPU devices in `tf.distribute.Strategy`, not using nccl allreduce.\n"
     ]
    },
    {
     "name": "stdout",
     "output_type": "stream",
     "text": [
      "INFO:tensorflow:Using MirroredStrategy with devices ('/job:localhost/replica:0/task:0/device:CPU:0',)\n"
     ]
    },
    {
     "name": "stderr",
     "output_type": "stream",
     "text": [
      "INFO:tensorflow:Using MirroredStrategy with devices ('/job:localhost/replica:0/task:0/device:CPU:0',)\n"
     ]
    },
    {
     "data": {
      "text/plain": [
       "1"
      ]
     },
     "execution_count": 5,
     "metadata": {},
     "output_type": "execute_result"
    }
   ],
   "source": [
    "strategy = tf.distribute.MirroredStrategy()\n",
    "strategy.num_replicas_in_sync"
   ]
  },
  {
   "cell_type": "code",
   "execution_count": 6,
   "id": "theoretical-arnold",
   "metadata": {},
   "outputs": [],
   "source": [
    "n_train = info.splits['train'].num_examples\n",
    "n_test = info.splits['test'].num_examples"
   ]
  },
  {
   "cell_type": "code",
   "execution_count": 7,
   "id": "alive-petroleum",
   "metadata": {},
   "outputs": [],
   "source": [
    "BUFF = 10_000\n",
    "REPLICA_BATCH = 64\n",
    "BATCH = REPLICA_BATCH * strategy.num_replicas_in_sync"
   ]
  },
  {
   "cell_type": "code",
   "execution_count": 8,
   "id": "lightweight-bernard",
   "metadata": {},
   "outputs": [],
   "source": [
    "def scale(img, label):\n",
    "    img = tf.cast(img, tf.float32)\n",
    "    img /= 255\n",
    "    return img, label"
   ]
  },
  {
   "cell_type": "code",
   "execution_count": 10,
   "id": "eligible-sheffield",
   "metadata": {},
   "outputs": [],
   "source": [
    "train = train.map(scale).cache().shuffle(BUFF).batch(BATCH)\n",
    "test = test.map(scale).cache().shuffle(BUFF).batch(BATCH)"
   ]
  },
  {
   "cell_type": "code",
   "execution_count": 12,
   "id": "vocal-weather",
   "metadata": {},
   "outputs": [],
   "source": [
    "with strategy.scope():\n",
    "    mod = Sequential([\n",
    "        Conv2D(32, 3, activation='relu', input_shape=(28, 28, 1)),\n",
    "        MaxPooling2D(),\n",
    "        Flatten(),\n",
    "        Dense(64, activation='relu'),\n",
    "        Dense(10)])"
   ]
  },
  {
   "cell_type": "code",
   "execution_count": 14,
   "id": "exclusive-chorus",
   "metadata": {},
   "outputs": [],
   "source": [
    "mod.compile(loss=SparseCategoricalCrossentropy(from_logits=True),\n",
    "            optimizer=Adam(),\n",
    "            metrics=['accuracy'])"
   ]
  },
  {
   "cell_type": "code",
   "execution_count": 15,
   "id": "starting-valuation",
   "metadata": {},
   "outputs": [
    {
     "name": "stdout",
     "output_type": "stream",
     "text": [
      "Epoch 1/12\n",
      "938/938 [==============================] - 9s 9ms/step - loss: 0.3878 - accuracy: 0.8908\n",
      "Epoch 2/12\n",
      "938/938 [==============================] - 9s 9ms/step - loss: 0.0718 - accuracy: 0.9788\n",
      "Epoch 3/12\n",
      "938/938 [==============================] - 9s 9ms/step - loss: 0.0477 - accuracy: 0.9862\n",
      "Epoch 4/12\n",
      "938/938 [==============================] - 9s 9ms/step - loss: 0.0341 - accuracy: 0.9898\n",
      "Epoch 5/12\n",
      "938/938 [==============================] - 9s 9ms/step - loss: 0.0270 - accuracy: 0.9918\n",
      "Epoch 6/12\n",
      "938/938 [==============================] - 9s 9ms/step - loss: 0.0203 - accuracy: 0.9938\n",
      "Epoch 7/12\n",
      "938/938 [==============================] - 9s 9ms/step - loss: 0.0155 - accuracy: 0.9953\n",
      "Epoch 8/12\n",
      "938/938 [==============================] - 9s 9ms/step - loss: 0.0151 - accuracy: 0.9951\n",
      "Epoch 9/12\n",
      "938/938 [==============================] - 9s 9ms/step - loss: 0.0093 - accuracy: 0.9972\n",
      "Epoch 10/12\n",
      "938/938 [==============================] - 8s 9ms/step - loss: 0.0073 - accuracy: 0.9978\n",
      "Epoch 11/12\n",
      "938/938 [==============================] - 8s 9ms/step - loss: 0.0061 - accuracy: 0.9979\n",
      "Epoch 12/12\n",
      "938/938 [==============================] - 8s 9ms/step - loss: 0.0057 - accuracy: 0.9982\n"
     ]
    },
    {
     "data": {
      "text/plain": [
       "<tensorflow.python.keras.callbacks.History at 0x7ff2f4485b20>"
      ]
     },
     "execution_count": 15,
     "metadata": {},
     "output_type": "execute_result"
    }
   ],
   "source": [
    "mod.fit(train, epochs=12)"
   ]
  },
  {
   "cell_type": "code",
   "execution_count": null,
   "id": "comparative-punishment",
   "metadata": {},
   "outputs": [],
   "source": []
  }
 ],
 "metadata": {
  "kernelspec": {
   "display_name": "Python 3",
   "language": "python",
   "name": "python3"
  },
  "language_info": {
   "codemirror_mode": {
    "name": "ipython",
    "version": 3
   },
   "file_extension": ".py",
   "mimetype": "text/x-python",
   "name": "python",
   "nbconvert_exporter": "python",
   "pygments_lexer": "ipython3",
   "version": "3.8.8"
  }
 },
 "nbformat": 4,
 "nbformat_minor": 5
}
